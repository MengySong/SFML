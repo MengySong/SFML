{
 "cells": [
  {
   "cell_type": "code",
   "execution_count": null,
   "metadata": {},
   "outputs": [],
   "source": [
    "# install.packages(\"dplyr\")\n",
    "# install.packages(\"outliers\")\n",
    "# install.packages(\"caret\")"
   ]
  },
  {
   "cell_type": "code",
   "execution_count": 2,
   "metadata": {},
   "outputs": [],
   "source": [
    "library(dplyr)\n",
    "library(outliers)\n",
    "library(caret)"
   ]
  },
  {
   "cell_type": "markdown",
   "metadata": {},
   "source": [
    "<h1>Import data</h1>"
   ]
  },
  {
   "cell_type": "code",
   "execution_count": 3,
   "metadata": {},
   "outputs": [],
   "source": [
    "mydata = read.csv(\"trainingValue.csv\")\n",
    "test = read.csv(\"testValue.csv\")"
   ]
  },
  {
   "cell_type": "markdown",
   "metadata": {},
   "source": [
    "<h1>Analysis</h1>"
   ]
  },
  {
   "cell_type": "code",
   "execution_count": 4,
   "metadata": {},
   "outputs": [
    {
     "data": {
      "text/plain": [
       "       id          amount_tsh          date_recorded  \n",
       " Min.   :    0   Min.   :     0.0   2011-03-15:  572  \n",
       " 1st Qu.:18520   1st Qu.:     0.0   2011-03-17:  558  \n",
       " Median :37062   Median :     0.0   2013-02-03:  546  \n",
       " Mean   :37115   Mean   :   317.7   2011-03-14:  520  \n",
       " 3rd Qu.:55657   3rd Qu.:    20.0   2011-03-16:  513  \n",
       " Max.   :74247   Max.   :350000.0   2011-03-18:  497  \n",
       "                                    (Other)   :56194  \n",
       "                    funder        gps_height          installer    \n",
       " Government Of Tanzania: 9084   Min.   : -90.0   DWE       :17402  \n",
       "                       : 3635   1st Qu.:   0.0             : 3655  \n",
       " Danida                : 3114   Median : 369.0   Government: 1825  \n",
       " Hesawa                : 2202   Mean   : 668.3   RWE       : 1206  \n",
       " Rwssp                 : 1374   3rd Qu.:1319.2   Commu     : 1060  \n",
       " World Bank            : 1349   Max.   :2770.0   DANIDA    : 1050  \n",
       " (Other)               :38642                    (Other)   :33202  \n",
       "   longitude        latitude            wpt_name      num_private       \n",
       " Min.   : 0.00   Min.   :-11.649   none     : 3563   Min.   :   0.0000  \n",
       " 1st Qu.:33.09   1st Qu.: -8.541   Shuleni  : 1748   1st Qu.:   0.0000  \n",
       " Median :34.91   Median : -5.022   Zahanati :  830   Median :   0.0000  \n",
       " Mean   :34.08   Mean   : -5.706   Msikitini:  535   Mean   :   0.4741  \n",
       " 3rd Qu.:37.18   3rd Qu.: -3.326   Kanisani :  323   3rd Qu.:   0.0000  \n",
       " Max.   :40.35   Max.   :  0.000   Bombani  :  271   Max.   :1776.0000  \n",
       "                                   (Other)  :52130                      \n",
       "             basin          subvillage            region       region_code  \n",
       " Lake Victoria  :10248   Madukani:  508   Iringa     : 5294   Min.   : 1.0  \n",
       " Pangani        : 8940   Shuleni :  506   Shinyanga  : 4982   1st Qu.: 5.0  \n",
       " Rufiji         : 7976   Majengo :  502   Mbeya      : 4639   Median :12.0  \n",
       " Internal       : 7785   Kati    :  373   Kilimanjaro: 4379   Mean   :15.3  \n",
       " Lake Tanganyika: 6432           :  371   Morogoro   : 4006   3rd Qu.:17.0  \n",
       " Wami / Ruvu    : 5987   Mtakuja :  262   Arusha     : 3350   Max.   :99.0  \n",
       " (Other)        :12032   (Other) :56878   (Other)    :32750                 \n",
       " district_code             lga               ward         population     \n",
       " Min.   : 0.00   Njombe      : 2503   Igosi    :  307   Min.   :    0.0  \n",
       " 1st Qu.: 2.00   Arusha Rural: 1252   Imalinyi :  252   1st Qu.:    0.0  \n",
       " Median : 3.00   Moshi Rural : 1251   Siha Kati:  232   Median :   25.0  \n",
       " Mean   : 5.63   Bariadi     : 1177   Mdandu   :  231   Mean   :  179.9  \n",
       " 3rd Qu.: 5.00   Rungwe      : 1106   Nduruma  :  217   3rd Qu.:  215.0  \n",
       " Max.   :80.00   Kilosa      : 1094   Kitunda  :  203   Max.   :30500.0  \n",
       "                 (Other)     :51017   (Other)  :57958                    \n",
       " public_meeting                  recorded_by          scheme_management\n",
       "      : 3334    GeoData Consultants Ltd:59400   VWC            :36793  \n",
       " False: 5055                                    WUG            : 5206  \n",
       " True :51011                                                   : 3877  \n",
       "                                                Water authority: 3153  \n",
       "                                                WUA            : 2883  \n",
       "                                                Water Board    : 2748  \n",
       "                                                (Other)        : 4740  \n",
       "        scheme_name      permit      construction_year    extraction_type \n",
       "              :28166        : 3056   Min.   :   0      gravity    :26780  \n",
       " K            :  682   False:17492   1st Qu.:   0      nira/tanira: 8154  \n",
       " None         :  644   True :38852   Median :1986      other      : 6430  \n",
       " Borehole     :  546                 Mean   :1301      submersible: 4764  \n",
       " Chalinze wate:  405                 3rd Qu.:2004      swn 80     : 3670  \n",
       " M            :  400                 Max.   :2013      mono       : 2865  \n",
       " (Other)      :28557                                   (Other)    : 6737  \n",
       " extraction_type_group  extraction_type_class            management   \n",
       " gravity    :26780     gravity     :26780     vwc             :40507  \n",
       " nira/tanira: 8154     handpump    :16456     wug             : 6515  \n",
       " other      : 6430     motorpump   : 2987     water board     : 2933  \n",
       " submersible: 6179     other       : 6430     wua             : 2535  \n",
       " swn 80     : 3670     rope pump   :  451     private operator: 1971  \n",
       " mono       : 2865     submersible : 6179     parastatal      : 1768  \n",
       " (Other)    : 5322     wind-powered:  117     (Other)         : 3171  \n",
       "   management_group                  payment          payment_type  \n",
       " commercial: 3638   never pay            :25348   annually  : 3642  \n",
       " other     :  943   other                : 1054   monthly   : 8300  \n",
       " parastatal: 1768   pay annually         : 3642   never pay :25348  \n",
       " unknown   :  561   pay monthly          : 8300   on failure: 3914  \n",
       " user-group:52490   pay per bucket       : 8985   other     : 1054  \n",
       "                    pay when scheme fails: 3914   per bucket: 8985  \n",
       "                    unknown              : 8157   unknown   : 8157  \n",
       "         water_quality    quality_group           quantity    \n",
       " soft           :50818   colored :  490   dry         : 6246  \n",
       " salty          : 4856   fluoride:  217   enough      :33186  \n",
       " unknown        : 1876   good    :50818   insufficient:15129  \n",
       " milky          :  804   milky   :  804   seasonal    : 4050  \n",
       " coloured       :  490   salty   : 5195   unknown     :  789  \n",
       " salty abandoned:  339   unknown : 1876                       \n",
       " (Other)        :  217                                        \n",
       "      quantity_group                   source                    source_type   \n",
       " dry         : 6246   spring              :17021   borehole            :11949  \n",
       " enough      :33186   shallow well        :16824   dam                 :  656  \n",
       " insufficient:15129   machine dbh         :11075   other               :  278  \n",
       " seasonal    : 4050   river               : 9612   rainwater harvesting: 2295  \n",
       " unknown     :  789   rainwater harvesting: 2295   river/lake          :10377  \n",
       "                      hand dtw            :  874   shallow well        :16824  \n",
       "                      (Other)             : 1699   spring              :17021  \n",
       "      source_class                      waterpoint_type \n",
       " groundwater:45794   cattle trough              :  116  \n",
       " surface    :13328   communal standpipe         :28522  \n",
       " unknown    :  278   communal standpipe multiple: 6103  \n",
       "                     dam                        :    7  \n",
       "                     hand pump                  :17488  \n",
       "                     improved spring            :  784  \n",
       "                     other                      : 6380  \n",
       "        waterpoint_type_group\n",
       " cattle trough     :  116    \n",
       " communal standpipe:34625    \n",
       " dam               :    7    \n",
       " hand pump         :17488    \n",
       " improved spring   :  784    \n",
       " other             : 6380    \n",
       "                             "
      ]
     },
     "metadata": {},
     "output_type": "display_data"
    }
   ],
   "source": [
    "summary(mydata)"
   ]
  },
  {
   "cell_type": "markdown",
   "metadata": {},
   "source": [
    "<h1>Remove columns</h1>\n",
    "Remove columns with more than 53 categorical values (required by random forest) and the columns inrelevant to the prediction, e.g. \"recorded_by\""
   ]
  },
  {
   "cell_type": "code",
   "execution_count": 5,
   "metadata": {},
   "outputs": [
    {
     "name": "stdout",
     "output_type": "stream",
     "text": [
      "[1] \"id\"\n",
      "[1] \"amount_tsh\"\n",
      "[1] \"date_recorded\"\n",
      "[1] \"funder\"\n",
      "[1] \"gps_height\"\n",
      "[1] \"installer\"\n",
      "[1] \"longitude\"\n",
      "[1] \"latitude\"\n",
      "[1] \"wpt_name\"\n",
      "[1] \"num_private\"\n",
      "[1] \"subvillage\"\n",
      "[1] \"lga\"\n",
      "[1] \"ward\"\n",
      "[1] \"population\"\n",
      "[1] \"scheme_name\"\n",
      "[1] \"construction_year\"\n"
     ]
    }
   ],
   "source": [
    "for(i in 1:40 ){\n",
    "    if(length(unique(mydata[,i]))>53)\n",
    "    print(colnames(mydata[i]))\n",
    "          }"
   ]
  },
  {
   "cell_type": "code",
   "execution_count": 6,
   "metadata": {},
   "outputs": [],
   "source": [
    "data1 = mydata[ , -which(colnames(mydata) %in% c(\"longitude\",\"latitude\",\"num_private\",\"wpt_name\",\"subvillage\",\"region\",\"lga\",\"ward\",\"population\",\"recorded_by\",\"scheme_name\",\"construction_year\"\n",
    "))]\n",
    "test = test[ , -which(colnames(test) %in% c(\"longitude\",\"latitude\",\"num_private\",\"wpt_name\",\"subvillage\",\"region\",\"lga\",\"ward\",\"population\",\"recorded_by\",\"scheme_name\",\"construction_year\"\n",
    "))]"
   ]
  },
  {
   "cell_type": "markdown",
   "metadata": {},
   "source": [
    " <h1>Dealing With Categorical Data</h1>\n",
    " use the factor method to convert texts into numerical codes."
   ]
  },
  {
   "cell_type": "code",
   "execution_count": 7,
   "metadata": {},
   "outputs": [],
   "source": [
    "data1$water_quality = factor(data1$water_quality, levels = c('unknown','soft','salty','milky','coloured','fluoride','salty abandoned','fluoride abandoned'), \n",
    "                               labels = c(0,1,2,3,4,5,6,7))\n",
    "data1[, \"water_quality\"][data1[, \"water_quality\"] == 0] <- NA\n",
    "data1[,\"water_quality\"] <- as.numeric(data1[,\"water_quality\"])\n",
    "data1[is.na(data1[,\"water_quality\"]),\"water_quality\"] <- mean(data1[,\"water_quality\"], na.rm = TRUE)\n",
    "data1[,\"water_quality\"] <- as.factor(data1[,\"water_quality\"])\n",
    "\n",
    "data1$quality_group = factor(data1$quality_group, levels = c('unknown','good','salty','milky','coloured','fluoride'), \n",
    "                               labels = c(0,1,2,3,4,5))\n",
    "data1[, \"quality_group\"][data1[, \"quality_group\"] == 0] <- NA\n",
    "data1[,\"quality_group\"] <- as.numeric(data1[,\"quality_group\"])\n",
    "data1[is.na(data1[,\"quality_group\"]),\"quality_group\"] <- mean(data1[,\"quality_group\"], na.rm = TRUE)\n",
    "data1[,\"quality_group\"] <- as.factor(data1[,\"quality_group\"])\n",
    "\n",
    "data1$quantity = factor(data1$quantity, levels = c('unknown','enough','seasonal','insufficient','dry'), \n",
    "                               labels = c(0,1,2,3,4))\n",
    "data1[, \"quantity\"][data1[, \"quantity\"] == 0] <- NA\n",
    "data1[,\"quantity\"] <- as.numeric(data1[,\"quantity\"])\n",
    "data1[is.na(data1[,\"quantity\"]),\"quantity\"] <- mean(data1[,\"quantity\"], na.rm = TRUE)\n",
    "data1[,\"quantity\"] <- as.factor(data1[,\"quantity\"])\n",
    "\n",
    "data1$quantity_group = factor(data1$quantity_group, levels = c('unknown','enough','seasonal','insufficient','dry'), \n",
    "                               labels = c(0,1,2,3,4))\n",
    "data1[, \"quantity_group\"][data1[, \"quantity_group\"] == 0] <- NA\n",
    "data1[,\"quantity_group\"] <- as.numeric(data1[,\"quantity_group\"])\n",
    "data1[is.na(data1[,\"quantity_group\"]),\"quantity_group\"] <- mean(data1[,\"quantity_group\"], na.rm = TRUE)\n",
    "data1[,\"quantity_group\"] <- as.factor(data1[,\"quantity_group\"])\n",
    "\n",
    "data1$payment = factor(data1$payment, levels = c('unknown','never pay','pay per bucket','pay monthly','pay annually','pay when scheme fails','other'), \n",
    "                               labels = c(0,1,2,3,4,5,6))\n",
    "data1[, \"payment\"][data1[, \"payment\"] == 0] <- NA\n",
    "data1[,\"payment\"] <- as.numeric(data1[,\"payment\"])\n",
    "data1[is.na(data1[,\"payment\"]),\"payment\"] <- mean(data1[,\"payment\"], na.rm = TRUE)\n",
    "data1[,\"payment\"] <- as.factor(data1[,\"payment\"])\n",
    "\n",
    "data1$payment_type = factor(data1$payment_type, levels = c('unknown','never pay','per bucket','monthly','annually','on failure','other'), \n",
    "                               labels = c(0,1,2,3,4,5,6))\n",
    "data1[, \"payment_type\"][data1[, \"payment_type\"] == 0] <- NA\n",
    "data1[,\"payment_type\"] <- as.numeric(data1[,\"payment_type\"])\n",
    "data1[is.na(data1[,\"payment_type\"]),\"payment_type\"] <- mean(data1[,\"payment_type\"], na.rm = TRUE)\n",
    "data1[,\"payment_type\"] <- as.factor(data1[,\"payment_type\"])\n"
   ]
  },
  {
   "cell_type": "code",
   "execution_count": 8,
   "metadata": {},
   "outputs": [],
   "source": [
    "# deal with categorical data for test set\n",
    "\n",
    "test$water_quality = factor(test$water_quality, levels = c('unknown','soft','salty','milky','coloured','fluoride','salty abandoned','fluoride abandoned'), \n",
    "                               labels = c(0,1,2,3,4,5,6,7))\n",
    "test[, \"water_quality\"][test[, \"water_quality\"] == 0] <- NA\n",
    "test[,\"water_quality\"] <- as.numeric(test[,\"water_quality\"])\n",
    "test[is.na(test[,\"water_quality\"]),\"water_quality\"] <- mean(test[,\"water_quality\"], na.rm = TRUE)\n",
    "test[,\"water_quality\"] <- as.factor(test[,\"water_quality\"])\n",
    "\n",
    "test$quality_group = factor(test$quality_group, levels = c('unknown','good','salty','milky','coloured','fluoride'), \n",
    "                               labels = c(0,1,2,3,4,5))\n",
    "test[, \"quality_group\"][test[, \"quality_group\"] == 0] <- NA\n",
    "test[,\"quality_group\"] <- as.numeric(test[,\"quality_group\"])\n",
    "test[is.na(test[,\"quality_group\"]),\"quality_group\"] <- mean(test[,\"quality_group\"], na.rm = TRUE)\n",
    "test[,\"quality_group\"] <- as.factor(test[,\"quality_group\"])\n",
    "\n",
    "\n",
    "test$quantity = factor(test$quantity, levels = c('unknown','enough','seasonal','insufficient','dry'), \n",
    "                               labels = c(0,1,2,3,4))\n",
    "test[, \"quantity\"][test[, \"quantity\"] == 0] <- NA\n",
    "test[,\"quantity\"] <- as.numeric(test[,\"quantity\"])\n",
    "test[is.na(test[,\"quantity\"]),\"quantity\"] <- mean(test[,\"quantity\"], na.rm = TRUE)\n",
    "test[,\"quantity\"] <- as.factor(test[,\"quantity\"])\n",
    "\n",
    "test$quantity_group = factor(test$quantity_group, levels = c('unknown','enough','seasonal','insufficient','dry'), \n",
    "                               labels = c(0,1,2,3,4))\n",
    "test[, \"quantity_group\"][test[, \"quantity_group\"] == 0] <- NA\n",
    "test[,\"quantity_group\"] <- as.numeric(test[,\"quantity_group\"])\n",
    "test[is.na(test[,\"quantity_group\"]),\"quantity_group\"] <- mean(test[,\"quantity_group\"], na.rm = TRUE)\n",
    "test[,\"quantity_group\"] <- as.factor(test[,\"quantity_group\"])\n",
    "\n",
    "test$payment = factor(test$payment, levels = c('unknown','never pay','pay per bucket','pay monthly','pay annually','pay when scheme fails','other'), \n",
    "                               labels = c(0,1,2,3,4,5,6))\n",
    "test[, \"payment\"][test[, \"payment\"] == 0] <- NA\n",
    "test[,\"payment\"] <- as.numeric(test[,\"payment\"])\n",
    "test[is.na(test[,\"payment\"]),\"payment\"] <- mean(test[,\"payment\"], na.rm = TRUE)\n",
    "test[,\"payment\"] <- as.factor(test[,\"payment\"])\n",
    "\n",
    "test$payment_type = factor(test$payment_type, levels = c('unknown','never pay','per bucket','monthly','annually','on failure','other'), \n",
    "                               labels = c(0,1,2,3,4,5,6))\n",
    "test[, \"payment_type\"][test[, \"payment_type\"] == 0] <- NA\n",
    "test[,\"payment_type\"] <- as.numeric(test[,\"payment_type\"])\n",
    "test[is.na(test[,\"payment_type\"]),\"payment_type\"] <- mean(test[,\"payment_type\"], na.rm = TRUE)\n",
    "test[,\"payment_type\"] <- as.factor(test[,\"payment_type\"])"
   ]
  },
  {
   "cell_type": "markdown",
   "metadata": {},
   "source": [
    "<h3>Remove NA rows for scheme_management, permit and public_meeting labels</h3>"
   ]
  },
  {
   "cell_type": "code",
   "execution_count": 9,
   "metadata": {},
   "outputs": [],
   "source": [
    "# Set missing values into <NA>\n",
    "data1$scheme_management <- as.character(data1$scheme_management)\n",
    "data1$scheme_management[data1$scheme_management==\"\"] <-\"0\"\n",
    "data1$scheme_management <- na_if(data1$scheme_management, \"0\")\n",
    "data1$scheme_management <- as.factor(data1$scheme_management)\n",
    "\n",
    "data1$permit <- as.character(data1$permit)\n",
    "data1$permit[data1$permit==\"\"] <-\"0\"\n",
    "data1$permit <- na_if(data1$permit, \"0\")\n",
    "data1$permit <- as.factor(data1$permit)\n",
    "\n",
    "data1$public_meeting <- as.character(data1$public_meeting)\n",
    "data1$public_meeting[data1$public_meeting==\"\"] <-\"0\"\n",
    "data1$public_meeting <- na_if(data1$public_meeting, \"0\")\n",
    "data1$public_meeting <- as.factor(data1$public_meeting)\n",
    "\n",
    "data1$funder <- as.character(data1$funder)\n",
    "data1$funder[data1$funder==\"\"] <-\"0\"\n",
    "data1$funder <- na_if(data1$funder, \"0\")\n",
    "data1$funder <- as.factor(data1$funder)\n",
    "\n",
    "data1$installer <- as.character(data1$installer)\n",
    "data1$installer[data1$installer==\"\"] <-\"0\"\n",
    "data1$installer <- na_if(data1$installer, \"0\")\n",
    "data1$installer <- as.factor(data1$installer)"
   ]
  },
  {
   "cell_type": "code",
   "execution_count": 10,
   "metadata": {},
   "outputs": [],
   "source": [
    "# Set \"unknown\" value into <NA>\n",
    "data1$source_class <- as.character(data1$source_class)\n",
    "data1$source_class[data1$source_class==\"unknown\"] <-\"0\"\n",
    "data1$source_class <- na_if(data1$source_class, \"0\")\n",
    "data1$source_class <- as.factor(data1$source_class)\n",
    "\n",
    "data1$management_group <- as.character(data1$management_group)\n",
    "data1$management_group[data1$management_group==\"unknown\"] <-\"0\"\n",
    "data1$management_group <- na_if(data1$management_group, \"0\")\n",
    "data1$management_group <- as.factor(data1$management_group)"
   ]
  },
  {
   "cell_type": "code",
   "execution_count": 11,
   "metadata": {},
   "outputs": [],
   "source": [
    "# Remove NA values\n",
    "data1 <- na.omit(data1) "
   ]
  },
  {
   "cell_type": "markdown",
   "metadata": {},
   "source": [
    "<h3>Reduce factor levels</h3>\n",
    "For funder and installer"
   ]
  },
  {
   "cell_type": "code",
   "execution_count": 12,
   "metadata": {},
   "outputs": [],
   "source": [
    "# Funder - reduce factor levels\n",
    "funderNames <- names(summary(data1$funder)[1:30])\n",
    "funder <- factor(data1$funder, levels=c(funderNames, \"Other\"))\n",
    "funder[is.na(funder)] <- \"Other\"\n",
    "data1$funder <- funder\n",
    "\n",
    "# Installer - reduce factor levels\n",
    "installerNames <- names(summary(data1$installer)[1:30])\n",
    "installer <- factor(data1$installer, levels=c(installerNames, \"Other\"))\n",
    "installer[is.na(installer)] <- \"Other\"\n",
    "data1$installer <- installer"
   ]
  },
  {
   "cell_type": "code",
   "execution_count": 13,
   "metadata": {},
   "outputs": [],
   "source": [
    "# reduce for test set\n",
    "funderT <- factor(test$funder, levels=c(funderNames, \"Other\"))\n",
    "funderT[is.na(funderT)] <- \"Other\"\n",
    "test$funder <- funderT\n",
    "\n",
    "installerT <- factor(test$installer, levels=c(installerNames, \"Other\"))\n",
    "installerT[is.na(installerT)] <- \"Other\"\n",
    "test$installer <- installerT"
   ]
  },
  {
   "cell_type": "markdown",
   "metadata": {},
   "source": [
    "<h1>Normalize</h1>\n",
    "1. replace 0 value in amount_tsh with the mean value"
   ]
  },
  {
   "cell_type": "code",
   "execution_count": 14,
   "metadata": {},
   "outputs": [],
   "source": [
    "data1[, \"amount_tsh\"][data1[, \"amount_tsh\"] == 0] <- NA\n",
    "data1[is.na(data1[,\"amount_tsh\"]),\"amount_tsh\"] <- mean(data1[,\"amount_tsh\"], na.rm = TRUE)\n",
    "AT1 <- rm.outlier(data1[,\"amount_tsh\"], fill = TRUE, median = TRUE, opposite = FALSE)\n"
   ]
  },
  {
   "cell_type": "code",
   "execution_count": 15,
   "metadata": {},
   "outputs": [
    {
     "data": {
      "image/png": "[encoded data removed]",
      "text/plain": [
       "Plot with title \"amount_tsh\""
      ]
     },
     "metadata": {
      "image/png": {
       "height": 420,
       "width": 420
      }
     },
     "output_type": "display_data"
    },
    {
     "data": {
      "image/png": "[encoded data removed]",
      "text/plain": [
       "Plot with title \"after removing outliers\""
      ]
     },
     "metadata": {
      "image/png": {
       "height": 420,
       "width": 420
      }
     },
     "output_type": "display_data"
    }
   ],
   "source": [
    "boxplot(data1$amount_tsh,main = \"amount_tsh\")\n",
    "boxplot(AT1,main=\"after removing outliers\")"
   ]
  },
  {
   "cell_type": "code",
   "execution_count": 16,
   "metadata": {},
   "outputs": [],
   "source": [
    "data1$amount_tsh <- AT1"
   ]
  },
  {
   "cell_type": "code",
   "execution_count": 17,
   "metadata": {},
   "outputs": [
    {
     "data": {
      "text/plain": [
       "       id          amount_tsh          date_recorded  \n",
       " Min.   :    2   Min.   :     0.2   2011-03-14:  478  \n",
       " 1st Qu.:18562   1st Qu.:  1000.0   2011-03-17:  469  \n",
       " Median :37049   Median :  1091.5   2013-02-03:  460  \n",
       " Mean   :37112   Mean   :  1086.3   2011-03-16:  441  \n",
       " 3rd Qu.:55629   3rd Qu.:  1091.5   2011-03-18:  427  \n",
       " Max.   :74247   Max.   :200000.0   2011-03-15:  416  \n",
       "                                    (Other)   :45329  \n",
       "                    funder        gps_height          installer    \n",
       " Other                 :19531   Min.   : -90.0   Other     :18980  \n",
       " Government Of Tanzania: 8122   1st Qu.:   0.0   DWE       :14511  \n",
       " Danida                : 2913   Median : 467.0   Government: 1438  \n",
       " Hesawa                : 1387   Mean   : 703.1   Commu     : 1059  \n",
       " Kkkt                  : 1257   3rd Qu.:1337.0   RWE       : 1024  \n",
       " World Bank            : 1189   Max.   :2770.0   KKKT      :  884  \n",
       " (Other)               :13621                    (Other)   :10124  \n",
       "             basin       region_code    district_code   public_meeting\n",
       " Pangani        :8394   Min.   : 1.00   Min.   : 0.00   False: 4301   \n",
       " Lake Victoria  :7300   1st Qu.: 5.00   1st Qu.: 2.00   True :43719   \n",
       " Internal       :6140   Median :12.00   Median : 3.00                 \n",
       " Rufiji         :6022   Mean   :14.75   Mean   : 5.75                 \n",
       " Lake Tanganyika:5625   3rd Qu.:17.00   3rd Qu.: 5.00                 \n",
       " Wami / Ruvu    :5125   Max.   :99.00   Max.   :80.00                 \n",
       " (Other)        :9414                                                 \n",
       "       scheme_management   permit         extraction_type \n",
       " VWC            :32311   False:14940   gravity    :23022  \n",
       " WUG            : 4188   True :33080   nira/tanira: 6232  \n",
       " Water authority: 2913                 other      : 4462  \n",
       " WUA            : 2622                 submersible: 3531  \n",
       " Water Board    : 2479                 swn 80     : 2856  \n",
       " Parastatal     : 1269                 mono       : 2383  \n",
       " (Other)        : 2238                 (Other)    : 5534  \n",
       " extraction_type_group  extraction_type_class            management   \n",
       " gravity    :23022     gravity     :23022     vwc             :33566  \n",
       " nira/tanira: 6232     handpump    :12861     wug             : 4747  \n",
       " submersible: 4859     motorpump   : 2503     water board     : 2655  \n",
       " other      : 4462     other       : 4462     wua             : 2288  \n",
       " swn 80     : 2856     rope pump   :  211     private operator: 1483  \n",
       " mono       : 2383     submersible : 4859     parastatal      : 1310  \n",
       " (Other)    : 4206     wind-powered:  102     (Other)         : 1971  \n",
       "   management_group             payment                payment_type  \n",
       " commercial: 3006   2               :20478   2               :20478  \n",
       " other     :  448   3               : 7888   3               : 7888  \n",
       " parastatal: 1310   3.12087504634779: 4117   3.12087504634779: 4117  \n",
       " user-group:43256   4               : 7525   4               : 7525  \n",
       "                    5               : 3456   5               : 3456  \n",
       "                    6               : 3634   6               : 3634  \n",
       "                    7               :  922   7               :  922  \n",
       "          water_quality            quality_group               quantity    \n",
       " 2               :42433   2               :42433   2               :28159  \n",
       " 3               : 3732   2.13449872006172: 1166   2.90505195270512:  284  \n",
       " 2.18307141367082:  858   3               : 3952   3               : 2857  \n",
       " 5               :  308   4               :  298   4               :11792  \n",
       " 4               :  298   6               :  171   5               : 4928  \n",
       " 7               :  220                                                    \n",
       " (Other)         :  171                                                    \n",
       "          quantity_group                   source     \n",
       " 2               :28159   spring              :14969  \n",
       " 2.90505195270512:  284   shallow well        :12376  \n",
       " 3               : 2857   machine dbh         : 8696  \n",
       " 4               :11792   river               : 8422  \n",
       " 5               : 4928   rainwater harvesting: 1598  \n",
       "                          hand dtw            :  773  \n",
       "                          (Other)             : 1186  \n",
       "               source_type         source_class  \n",
       " borehole            : 9469   groundwater:36814  \n",
       " dam                 :  581   surface    :11206  \n",
       " other               :    0                      \n",
       " rainwater harvesting: 1598                      \n",
       " river/lake          : 9027                      \n",
       " shallow well        :12376                      \n",
       " spring              :14969                      \n",
       "                    waterpoint_type         waterpoint_type_group\n",
       " cattle trough              :   78   cattle trough     :   78    \n",
       " communal standpipe         :23578   communal standpipe:29249    \n",
       " communal standpipe multiple: 5671   dam               :    6    \n",
       " dam                        :    6   hand pump         :13540    \n",
       " hand pump                  :13540   improved spring   :  647    \n",
       " improved spring            :  647   other             : 4500    \n",
       " other                      : 4500                               "
      ]
     },
     "metadata": {},
     "output_type": "display_data"
    }
   ],
   "source": [
    "summary(data1)"
   ]
  },
  {
   "cell_type": "code",
   "execution_count": 18,
   "metadata": {},
   "outputs": [
    {
     "name": "stdout",
     "output_type": "stream",
     "text": [
      "[1] 48020\n",
      "[1] 28\n"
     ]
    },
    {
     "ename": "ERROR",
     "evalue": "Error in match.fun(FUN): 缺少参数\"FUN\",也没有缺省值\n",
     "output_type": "error",
     "traceback": [
      "Error in match.fun(FUN): 缺少参数\"FUN\",也没有缺省值\nTraceback:\n",
      "1. sapply(data1)",
      "2. match.fun(FUN)"
     ]
    }
   ],
   "source": [
    "print(nrow(data1))\n",
    "print(ncol(data1))\n",
    "sapply(data1)"
   ]
  },
  {
   "cell_type": "code",
   "execution_count": null,
   "metadata": {},
   "outputs": [],
   "source": []
  }
 ],
 "metadata": {
  "kernelspec": {
   "display_name": "R",
   "language": "R",
   "name": "ir"
  },
  "language_info": {
   "codemirror_mode": "r",
   "file_extension": ".r",
   "mimetype": "text/x-r-source",
   "name": "R",
   "pygments_lexer": "r",
   "version": "3.6.1"
  }
 },
 "nbformat": 4,
 "nbformat_minor": 4
}
