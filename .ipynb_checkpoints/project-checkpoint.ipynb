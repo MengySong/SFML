{
 "cells": [
  {
   "cell_type": "code",
   "execution_count": null,
   "metadata": {},
   "outputs": [],
   "source": [
    "install.packages(\"dplyr\")\n",
    "install.packages(\"outliers\")"
   ]
  },
  {
   "cell_type": "code",
   "execution_count": null,
   "metadata": {},
   "outputs": [],
   "source": [
    "# library(caret)\n",
    "# library(magrittr)\n",
    "# library(tidyr)"
   ]
  },
  {
   "cell_type": "code",
   "execution_count": 1,
   "metadata": {},
   "outputs": [
    {
     "name": "stderr",
     "output_type": "stream",
     "text": [
      "Warning message:\n",
      "\"package 'dplyr' was built under R version 3.6.3\"\n",
      "\n",
      "Attaching package: 'dplyr'\n",
      "\n",
      "\n",
      "The following objects are masked from 'package:stats':\n",
      "\n",
      "    filter, lag\n",
      "\n",
      "\n",
      "The following objects are masked from 'package:base':\n",
      "\n",
      "    intersect, setdiff, setequal, union\n",
      "\n",
      "\n",
      "Warning message:\n",
      "\"package 'caret' was built under R version 3.6.3\"\n",
      "Loading required package: lattice\n",
      "\n",
      "Warning message:\n",
      "\"package 'lattice' was built under R version 3.6.3\"\n",
      "Loading required package: ggplot2\n",
      "\n",
      "Warning message:\n",
      "\"package 'ggplot2' was built under R version 3.6.3\"\n"
     ]
    }
   ],
   "source": [
    "library(dplyr)\n",
    "library(outliers)\n",
    "library(caret)"
   ]
  },
  {
   "cell_type": "markdown",
   "metadata": {},
   "source": [
    "<h1>Import data</h1>"
   ]
  },
  {
   "cell_type": "code",
   "execution_count": 2,
   "metadata": {},
   "outputs": [],
   "source": [
    "mydata = read.csv(\"trainingValue.csv\")"
   ]
  },
  {
   "cell_type": "code",
   "execution_count": 3,
   "metadata": {},
   "outputs": [
    {
     "data": {
      "text/html": [
       "<ol class=list-inline>\n",
       "\t<li>14850</li>\n",
       "\t<li>40</li>\n",
       "</ol>\n"
      ],
      "text/latex": [
       "\\begin{enumerate*}\n",
       "\\item 14850\n",
       "\\item 40\n",
       "\\end{enumerate*}\n"
      ],
      "text/markdown": [
       "1. 14850\n",
       "2. 40\n",
       "\n",
       "\n"
      ],
      "text/plain": [
       "[1] 14850    40"
      ]
     },
     "metadata": {},
     "output_type": "display_data"
    }
   ],
   "source": [
    "test = read.csv(\"testValue.csv\")\n",
    "dim(test)"
   ]
  },
  {
   "cell_type": "markdown",
   "metadata": {},
   "source": [
    "<h1>Analysis</h1>"
   ]
  },
  {
   "cell_type": "code",
   "execution_count": null,
   "metadata": {},
   "outputs": [],
   "source": [
    "summary(mydata)"
   ]
  },
  {
   "cell_type": "code",
   "execution_count": null,
   "metadata": {},
   "outputs": [],
   "source": [
    "print(nrow(mydata))\n",
    "print(ncol(mydata))\n",
    "print(sapply(mydata, class))"
   ]
  },
  {
   "cell_type": "markdown",
   "metadata": {},
   "source": [
    "<h1>Remove columns</h1>\n",
    "Remove columns with more than 53 categorical values (required by random forest) and the columns inrelevant to the prediction, e.g. \"recorded_by\""
   ]
  },
  {
   "cell_type": "code",
   "execution_count": null,
   "metadata": {},
   "outputs": [],
   "source": [
    "for(i in 1:40 ){\n",
    "    if(length(unique(mydata[,i]))>53)\n",
    "    print(colnames(mydata[i]))\n",
    "          }"
   ]
  },
  {
   "cell_type": "code",
   "execution_count": 4,
   "metadata": {},
   "outputs": [],
   "source": [
    "data1 = mydata[ , -which(colnames(mydata) %in% c(\"longitude\",\"latitude\",\"num_private\",\"wpt_name\",\"subvillage\",\"region\",\"lga\",\"ward\",\"population\",\"recorded_by\",\"scheme_name\",\"construction_year\"\n",
    "))]\n",
    "test = test[ , -which(colnames(test) %in% c(\"longitude\",\"latitude\",\"num_private\",\"wpt_name\",\"subvillage\",\"region\",\"lga\",\"ward\",\"population\",\"recorded_by\",\"scheme_name\",\"construction_year\"\n",
    "))]"
   ]
  },
  {
   "cell_type": "markdown",
   "metadata": {},
   "source": [
    " <h1>Dealing With Categorical Data</h1>\n",
    " use the factor method to convert texts into numerical codes."
   ]
  },
  {
   "cell_type": "code",
   "execution_count": 5,
   "metadata": {},
   "outputs": [],
   "source": [
    "data1$water_quality = factor(data1$water_quality, levels = c('unknown','soft','salty','milky','coloured','fluoride','salty abandoned','fluoride abandoned'), \n",
    "                               labels = c(0,1,2,3,4,5,6,7))\n",
    "data1[, \"water_quality\"][data1[, \"water_quality\"] == 0] <- NA\n",
    "data1[,\"water_quality\"] <- as.numeric(data1[,\"water_quality\"])\n",
    "data1[is.na(data1[,\"water_quality\"]),\"water_quality\"] <- mean(data1[,\"water_quality\"], na.rm = TRUE)\n",
    "data1[,\"water_quality\"] <- as.factor(data1[,\"water_quality\"])\n",
    "\n",
    "data1$quality_group = factor(data1$quality_group, levels = c('unknown','good','salty','milky','coloured','fluoride'), \n",
    "                               labels = c(0,1,2,3,4,5))\n",
    "data1[, \"quality_group\"][data1[, \"quality_group\"] == 0] <- NA\n",
    "data1[,\"quality_group\"] <- as.numeric(data1[,\"quality_group\"])\n",
    "data1[is.na(data1[,\"quality_group\"]),\"quality_group\"] <- mean(data1[,\"quality_group\"], na.rm = TRUE)\n",
    "data1[,\"quality_group\"] <- as.factor(data1[,\"quality_group\"])\n",
    "\n",
    "data1$quantity = factor(data1$quantity, levels = c('unknown','enough','seasonal','insufficient','dry'), \n",
    "                               labels = c(0,1,2,3,4))\n",
    "data1[, \"quantity\"][data1[, \"quantity\"] == 0] <- NA\n",
    "data1[,\"quantity\"] <- as.numeric(data1[,\"quantity\"])\n",
    "data1[is.na(data1[,\"quantity\"]),\"quantity\"] <- mean(data1[,\"quantity\"], na.rm = TRUE)\n",
    "data1[,\"quantity\"] <- as.factor(data1[,\"quantity\"])\n",
    "\n",
    "data1$quantity_group = factor(data1$quantity_group, levels = c('unknown','enough','seasonal','insufficient','dry'), \n",
    "                               labels = c(0,1,2,3,4))\n",
    "data1[, \"quantity_group\"][data1[, \"quantity_group\"] == 0] <- NA\n",
    "data1[,\"quantity_group\"] <- as.numeric(data1[,\"quantity_group\"])\n",
    "data1[is.na(data1[,\"quantity_group\"]),\"quantity_group\"] <- mean(data1[,\"quantity_group\"], na.rm = TRUE)\n",
    "data1[,\"quantity_group\"] <- as.factor(data1[,\"quantity_group\"])\n",
    "\n",
    "data1$payment = factor(data1$payment, levels = c('unknown','never pay','pay per bucket','pay monthly','pay annually','pay when scheme fails','other'), \n",
    "                               labels = c(0,1,2,3,4,5,6))\n",
    "data1[, \"payment\"][data1[, \"payment\"] == 0] <- NA\n",
    "data1[,\"payment\"] <- as.numeric(data1[,\"payment\"])\n",
    "data1[is.na(data1[,\"payment\"]),\"payment\"] <- mean(data1[,\"payment\"], na.rm = TRUE)\n",
    "data1[,\"payment\"] <- as.factor(data1[,\"payment\"])\n",
    "\n",
    "data1$payment_type = factor(data1$payment_type, levels = c('unknown','never pay','per bucket','monthly','annually','on failure','other'), \n",
    "                               labels = c(0,1,2,3,4,5,6))\n",
    "data1[, \"payment_type\"][data1[, \"payment_type\"] == 0] <- NA\n",
    "data1[,\"payment_type\"] <- as.numeric(data1[,\"payment_type\"])\n",
    "data1[is.na(data1[,\"payment_type\"]),\"payment_type\"] <- mean(data1[,\"payment_type\"], na.rm = TRUE)\n",
    "data1[,\"payment_type\"] <- as.factor(data1[,\"payment_type\"])\n"
   ]
  },
  {
   "cell_type": "code",
   "execution_count": 6,
   "metadata": {},
   "outputs": [],
   "source": [
    "# deal with categorical data for test set\n",
    "\n",
    "test$water_quality = factor(test$water_quality, levels = c('unknown','soft','salty','milky','coloured','fluoride','salty abandoned','fluoride abandoned'), \n",
    "                               labels = c(0,1,2,3,4,5,6,7))\n",
    "test[, \"water_quality\"][test[, \"water_quality\"] == 0] <- NA\n",
    "test[,\"water_quality\"] <- as.numeric(test[,\"water_quality\"])\n",
    "test[is.na(test[,\"water_quality\"]),\"water_quality\"] <- mean(test[,\"water_quality\"], na.rm = TRUE)\n",
    "test[,\"water_quality\"] <- as.factor(test[,\"water_quality\"])\n",
    "\n",
    "test$quality_group = factor(test$quality_group, levels = c('unknown','good','salty','milky','coloured','fluoride'), \n",
    "                               labels = c(0,1,2,3,4,5))\n",
    "test[, \"quality_group\"][test[, \"quality_group\"] == 0] <- NA\n",
    "test[,\"quality_group\"] <- as.numeric(test[,\"quality_group\"])\n",
    "test[is.na(test[,\"quality_group\"]),\"quality_group\"] <- mean(test[,\"quality_group\"], na.rm = TRUE)\n",
    "test[,\"quality_group\"] <- as.factor(test[,\"quality_group\"])\n",
    "\n",
    "\n",
    "test$quantity = factor(test$quantity, levels = c('unknown','enough','seasonal','insufficient','dry'), \n",
    "                               labels = c(0,1,2,3,4))\n",
    "test[, \"quantity\"][test[, \"quantity\"] == 0] <- NA\n",
    "test[,\"quantity\"] <- as.numeric(test[,\"quantity\"])\n",
    "test[is.na(test[,\"quantity\"]),\"quantity\"] <- mean(test[,\"quantity\"], na.rm = TRUE)\n",
    "test[,\"quantity\"] <- as.factor(test[,\"quantity\"])\n",
    "\n",
    "test$quantity_group = factor(test$quantity_group, levels = c('unknown','enough','seasonal','insufficient','dry'), \n",
    "                               labels = c(0,1,2,3,4))\n",
    "test[, \"quantity_group\"][test[, \"quantity_group\"] == 0] <- NA\n",
    "test[,\"quantity_group\"] <- as.numeric(test[,\"quantity_group\"])\n",
    "test[is.na(test[,\"quantity_group\"]),\"quantity_group\"] <- mean(test[,\"quantity_group\"], na.rm = TRUE)\n",
    "test[,\"quantity_group\"] <- as.factor(test[,\"quantity_group\"])\n",
    "\n",
    "test$payment = factor(test$payment, levels = c('unknown','never pay','pay per bucket','pay monthly','pay annually','pay when scheme fails','other'), \n",
    "                               labels = c(0,1,2,3,4,5,6))\n",
    "test[, \"payment\"][test[, \"payment\"] == 0] <- NA\n",
    "test[,\"payment\"] <- as.numeric(test[,\"payment\"])\n",
    "test[is.na(test[,\"payment\"]),\"payment\"] <- mean(test[,\"payment\"], na.rm = TRUE)\n",
    "test[,\"payment\"] <- as.factor(test[,\"payment\"])\n",
    "\n",
    "test$payment_type = factor(test$payment_type, levels = c('unknown','never pay','per bucket','monthly','annually','on failure','other'), \n",
    "                               labels = c(0,1,2,3,4,5,6))\n",
    "test[, \"payment_type\"][test[, \"payment_type\"] == 0] <- NA\n",
    "test[,\"payment_type\"] <- as.numeric(test[,\"payment_type\"])\n",
    "test[is.na(test[,\"payment_type\"]),\"payment_type\"] <- mean(test[,\"payment_type\"], na.rm = TRUE)\n",
    "test[,\"payment_type\"] <- as.factor(test[,\"payment_type\"])"
   ]
  },
  {
   "cell_type": "markdown",
   "metadata": {},
   "source": [
    "<h3>Remove NA rows for scheme_management, permit and public_meeting labels</h3>"
   ]
  },
  {
   "cell_type": "code",
   "execution_count": 7,
   "metadata": {},
   "outputs": [],
   "source": [
    "# Set missing values into <NA>\n",
    "data1$scheme_management <- as.character(data1$scheme_management)\n",
    "data1$scheme_management[data1$scheme_management==\"\"] <-\"0\"\n",
    "data1$scheme_management <- na_if(data1$scheme_management, \"0\")\n",
    "data1$scheme_management <- as.factor(data1$scheme_management)\n",
    "\n",
    "data1$permit <- as.character(data1$permit)\n",
    "data1$permit[data1$permit==\"\"] <-\"0\"\n",
    "data1$permit <- na_if(data1$permit, \"0\")\n",
    "data1$permit <- as.factor(data1$permit)\n",
    "\n",
    "data1$public_meeting <- as.character(data1$public_meeting)\n",
    "data1$public_meeting[data1$public_meeting==\"\"] <-\"0\"\n",
    "data1$public_meeting <- na_if(data1$public_meeting, \"0\")\n",
    "data1$public_meeting <- as.factor(data1$public_meeting)\n",
    "\n",
    "data1$funder <- as.character(data1$funder)\n",
    "data1$funder[data1$funder==\"\"] <-\"0\"\n",
    "data1$funder <- na_if(data1$funder, \"0\")\n",
    "data1$funder <- as.factor(data1$funder)\n",
    "\n",
    "data1$installer <- as.character(data1$installer)\n",
    "data1$installer[data1$installer==\"\"] <-\"0\"\n",
    "data1$installer <- na_if(data1$installer, \"0\")\n",
    "data1$installer <- as.factor(data1$installer)\n",
    "\n",
    "# Same for test\n",
    "test$scheme_management <- as.character(test$scheme_management)\n",
    "test$scheme_management[test$scheme_management==\"\"] <-\"0\"\n",
    "test$scheme_management <- na_if(test$scheme_management, \"0\")\n",
    "test$scheme_management <- as.factor(test$scheme_management)\n",
    "\n",
    "test$permit <- as.character(test$permit)\n",
    "test$permit[test$permit==\"\"] <-\"0\"\n",
    "test$permit <- na_if(test$permit, \"0\")\n",
    "test$permit <- as.factor(test$permit)\n",
    "\n",
    "test$public_meeting <- as.character(test$public_meeting)\n",
    "test$public_meeting[test$public_meeting==\"\"] <-\"0\"\n",
    "test$public_meeting <- na_if(test$public_meeting, \"0\")\n",
    "test$public_meeting <- as.factor(test$public_meeting)\n",
    "\n",
    "test$funder <- as.character(test$funder)\n",
    "test$funder[test$funder==\"\"] <-\"0\"\n",
    "test$funder <- na_if(test$funder, \"0\")\n",
    "test$funder <- as.factor(test$funder)\n",
    "\n",
    "test$installer <- as.character(test$installer)\n",
    "test$installer[test$installer==\"\"] <-\"0\"\n",
    "test$installer <- na_if(test$installer, \"0\")\n",
    "test$installer <- as.factor(test$installer)\n",
    "\n",
    "\n"
   ]
  },
  {
   "cell_type": "code",
   "execution_count": 8,
   "metadata": {},
   "outputs": [],
   "source": [
    "# Set \"unknown\" value into <NA>\n",
    "data1$source_class <- as.character(data1$source_class)\n",
    "data1$source_class[data1$source_class==\"unknown\"] <-\"0\"\n",
    "data1$source_class <- na_if(data1$source_class, \"0\")\n",
    "data1$source_class <- as.factor(data1$source_class)\n",
    "\n",
    "data1$management_group <- as.character(data1$management_group)\n",
    "data1$management_group[data1$management_group==\"unknown\"] <-\"0\"\n",
    "data1$management_group <- na_if(data1$management_group, \"0\")\n",
    "data1$management_group <- as.factor(data1$management_group)\n",
    "\n",
    "# Same for test\n",
    "test$source_class <- as.character(test$source_class)\n",
    "test$source_class[test$source_class==\"unknown\"] <-\"0\"\n",
    "test$source_class <- na_if(test$source_class, \"0\")\n",
    "test$source_class <- as.factor(test$source_class)\n",
    "\n",
    "test$management_group <- as.character(test$management_group)\n",
    "test$management_group[test$management_group==\"unknown\"] <-\"0\"\n",
    "test$management_group <- na_if(test$management_group, \"0\")\n",
    "test$management_group <- as.factor(test$management_group)\n",
    "\n"
   ]
  },
  {
   "cell_type": "code",
   "execution_count": 9,
   "metadata": {},
   "outputs": [],
   "source": [
    "# Remove NA values\n",
    "data1 <- na.omit(data1) \n",
    "#test <- na.omit(test) \n",
    "\n"
   ]
  },
  {
   "cell_type": "markdown",
   "metadata": {},
   "source": [
    "<h3>Reduce factor levels</h3>\n",
    "For funder and installer"
   ]
  },
  {
   "cell_type": "code",
   "execution_count": 10,
   "metadata": {},
   "outputs": [],
   "source": [
    "#Funder - reduce factor levels\n",
    "funderNames <- names(summary(data1$funder)[1:30])\n",
    "funder <- factor(data1$funder, levels=c(funderNames, \"Other\"))\n",
    "funder[is.na(funder)] <- \"Other\"\n",
    "data1$funder <- funder\n",
    "\n",
    "#Installer - reduce factor levels\n",
    "installerNames <- names(summary(data1$installer)[1:30])\n",
    "installer <- factor(data1$installer, levels=c(installerNames, \"Other\"))\n",
    "installer[is.na(installer)] <- \"Other\"\n",
    "data1$installer <- installer"
   ]
  },
  {
   "cell_type": "code",
   "execution_count": 11,
   "metadata": {},
   "outputs": [],
   "source": [
    "# reduce for test set\n",
    "funderT <- factor(test$funder, levels=c(funderNames, \"Other\"))\n",
    "funderT[is.na(funderT)] <- \"Other\"\n",
    "test$funder <- funderT\n",
    "\n",
    "installerT <- factor(test$installer, levels=c(installerNames, \"Other\"))\n",
    "installerT[is.na(installerT)] <- \"Other\"\n",
    "test$installer <- installerT"
   ]
  },
  {
   "cell_type": "code",
   "execution_count": 12,
   "metadata": {},
   "outputs": [
    {
     "name": "stdout",
     "output_type": "stream",
     "text": [
      "       id          amount_tsh          date_recorded  \n",
      " Min.   :    2   Min.   :     0.0   2011-03-14:  478  \n",
      " 1st Qu.:18562   1st Qu.:     0.0   2011-03-17:  469  \n",
      " Median :37049   Median :     0.0   2013-02-03:  460  \n",
      " Mean   :37112   Mean   :   361.2   2011-03-16:  441  \n",
      " 3rd Qu.:55629   3rd Qu.:    50.0   2011-03-18:  427  \n",
      " Max.   :74247   Max.   :250000.0   2011-03-15:  416  \n",
      "                                    (Other)   :45329  \n",
      "                    funder        gps_height          installer    \n",
      " Other                 :19531   Min.   : -90.0   Other     :18980  \n",
      " Government Of Tanzania: 8122   1st Qu.:   0.0   DWE       :14511  \n",
      " Danida                : 2913   Median : 467.0   Government: 1438  \n",
      " Hesawa                : 1387   Mean   : 703.1   Commu     : 1059  \n",
      " Kkkt                  : 1257   3rd Qu.:1337.0   RWE       : 1024  \n",
      " World Bank            : 1189   Max.   :2770.0   KKKT      :  884  \n",
      " (Other)               :13621                    (Other)   :10124  \n",
      "             basin       region_code    district_code   public_meeting\n",
      " Pangani        :8394   Min.   : 1.00   Min.   : 0.00   False: 4301   \n",
      " Lake Victoria  :7300   1st Qu.: 5.00   1st Qu.: 2.00   True :43719   \n",
      " Internal       :6140   Median :12.00   Median : 3.00                 \n",
      " Rufiji         :6022   Mean   :14.75   Mean   : 5.75                 \n",
      " Lake Tanganyika:5625   3rd Qu.:17.00   3rd Qu.: 5.00                 \n",
      " Wami / Ruvu    :5125   Max.   :99.00   Max.   :80.00                 \n",
      " (Other)        :9414                                                 \n",
      "       scheme_management   permit         extraction_type \n",
      " VWC            :32311   False:14940   gravity    :23022  \n",
      " WUG            : 4188   True :33080   nira/tanira: 6232  \n",
      " Water authority: 2913                 other      : 4462  \n",
      " WUA            : 2622                 submersible: 3531  \n",
      " Water Board    : 2479                 swn 80     : 2856  \n",
      " Parastatal     : 1269                 mono       : 2383  \n",
      " (Other)        : 2238                 (Other)    : 5534  \n",
      " extraction_type_group  extraction_type_class            management   \n",
      " gravity    :23022     gravity     :23022     vwc             :33566  \n",
      " nira/tanira: 6232     handpump    :12861     wug             : 4747  \n",
      " submersible: 4859     motorpump   : 2503     water board     : 2655  \n",
      " other      : 4462     other       : 4462     wua             : 2288  \n",
      " swn 80     : 2856     rope pump   :  211     private operator: 1483  \n",
      " mono       : 2383     submersible : 4859     parastatal      : 1310  \n",
      " (Other)    : 4206     wind-powered:  102     (Other)         : 1971  \n",
      "   management_group             payment                payment_type  \n",
      " commercial: 3006   2               :20478   2               :20478  \n",
      " other     :  448   3               : 7888   3               : 7888  \n",
      " parastatal: 1310   3.12087504634779: 4117   3.12087504634779: 4117  \n",
      " user-group:43256   4               : 7525   4               : 7525  \n",
      "                    5               : 3456   5               : 3456  \n",
      "                    6               : 3634   6               : 3634  \n",
      "                    7               :  922   7               :  922  \n",
      "          water_quality            quality_group               quantity    \n",
      " 2               :42433   2               :42433   2               :28159  \n",
      " 3               : 3732   2.13449872006172: 1166   2.90505195270512:  284  \n",
      " 2.18307141367082:  858   3               : 3952   3               : 2857  \n",
      " 5               :  308   4               :  298   4               :11792  \n",
      " 4               :  298   6               :  171   5               : 4928  \n",
      " 7               :  220                                                    \n",
      " (Other)         :  171                                                    \n",
      "          quantity_group                   source     \n",
      " 2               :28159   spring              :14969  \n",
      " 2.90505195270512:  284   shallow well        :12376  \n",
      " 3               : 2857   machine dbh         : 8696  \n",
      " 4               :11792   river               : 8422  \n",
      " 5               : 4928   rainwater harvesting: 1598  \n",
      "                          hand dtw            :  773  \n",
      "                          (Other)             : 1186  \n",
      "               source_type         source_class  \n",
      " borehole            : 9469   groundwater:36814  \n",
      " dam                 :  581   surface    :11206  \n",
      " other               :    0                      \n",
      " rainwater harvesting: 1598                      \n",
      " river/lake          : 9027                      \n",
      " shallow well        :12376                      \n",
      " spring              :14969                      \n",
      "                    waterpoint_type         waterpoint_type_group\n",
      " cattle trough              :   78   cattle trough     :   78    \n",
      " communal standpipe         :23578   communal standpipe:29249    \n",
      " communal standpipe multiple: 5671   dam               :    6    \n",
      " dam                        :    6   hand pump         :13540    \n",
      " hand pump                  :13540   improved spring   :  647    \n",
      " improved spring            :  647   other             : 4500    \n",
      " other                      : 4500                               \n"
     ]
    }
   ],
   "source": [
    "# nrow(data1)\n",
    "# ncol(data1)\n",
    "print(summary(data1))\n",
    "# sapply(data1,class)"
   ]
  },
  {
   "cell_type": "markdown",
   "metadata": {},
   "source": [
    "<h1>Normalize</h1>\n",
    "1. replace 0 value in amount_tsh with the mean value"
   ]
  },
  {
   "cell_type": "code",
   "execution_count": 50,
   "metadata": {},
   "outputs": [],
   "source": [
    "data1[, \"amount_tsh\"][data1[, \"amount_tsh\"] == 0] <- NA\n",
    "data1[is.na(data1[,\"amount_tsh\"]),\"amount_tsh\"] <- mean(data1[,\"amount_tsh\"], na.rm = TRUE)\n",
    "AT1 <- rm.outlier(data1[,\"amount_tsh\"], fill = TRUE, median = TRUE, opposite = FALSE)"
   ]
  },
  {
   "cell_type": "code",
   "execution_count": null,
   "metadata": {},
   "outputs": [],
   "source": [
    "boxplot(data1$amount_tsh,main = \"amount_tsh\")\n",
    "boxplot(AT1,main=\"after removing outliers\")"
   ]
  },
  {
   "cell_type": "code",
   "execution_count": 51,
   "metadata": {
    "pycharm": {
     "name": "#%%\n"
    }
   },
   "outputs": [],
   "source": [
    "data1$amount_tsh <- AT1"
   ]
  },
  {
   "cell_type": "code",
   "execution_count": null,
   "metadata": {},
   "outputs": [],
   "source": [
    "# TEMP factorize \n",
    "#data1$source_class = factor(data1$source_class) \n",
    "#data1$extraction_type = factor(data1$extraction_type) \n",
    "#data1$extraction_type_group = factor(data1$extraction_type_group) \n",
    "#data1$extraction_type_class = factor(data1$extraction_type_class) \n",
    "#data1$management = factor(data1$management) \n",
    "#data1$source = factor(data1$source) \n",
    "#data1$source_type = factor(data1$source_type) \n",
    "#data1$waterpoint_type = factor(data1$waterpoint_type) \n",
    "#data1$waterpoint_type_group = factor(data1$waterpoint_type_group) \n",
    "\n",
    "\n"
   ]
  },
  {
   "cell_type": "markdown",
   "metadata": {},
   "source": [
    "# Model Selection Procedure\n",
    "\n",
    "In this chapter we're going to assess which models are suited for the correct prediction of status_group labels. We have already preprocessed the data and made a selection of features which we can use. \n",
    "\n",
    "The final choice of our model will be decided based on the estimated out-of-sample error. This will in our case computed using cross-validation. "
   ]
  },
  {
   "cell_type": "code",
   "execution_count": 52,
   "metadata": {
    "pycharm": {
     "name": "#%%\n"
    }
   },
   "outputs": [],
   "source": [
    "# Merge labels and values in one dataset (needed for some algorithms)\n",
    "\n",
    "labels = read.csv(\"trainingLabel.csv\")\n",
    "tempdata <- merge(data1, labels, by = \"id\")\n",
    "\n",
    "tempdata$status_group = factor(tempdata$status_group) \n",
    "\n",
    "\n",
    "# Create a subset using a seed\n",
    "set.seed(2)\n",
    "data<-tempdata[sample(nrow(tempdata),10000),]\n"
   ]
  },
  {
   "cell_type": "markdown",
   "metadata": {},
   "source": [
    "## Model 1: Decision using RPART\n",
    "\n",
    "The first model that we're going to try is a using \\textbf{recursive partitioning}. This algorithm (the rpart library in R) creates a decision tree which strives to correctly link objects to the correct class. This is done by first creating the fully grown tree and then pruning it to the smallest possible tree with lowest error value. Internally, the algorithm uses k-fold cross validation and fits each subtree on a fold. This allows to visualise the relative cross-validation error after the model has been trained. \n"
   ]
  },
  {
   "cell_type": "code",
   "execution_count": 53,
   "metadata": {},
   "outputs": [
    {
     "name": "stdout",
     "output_type": "stream",
     "text": [
      "package 'rpart.plot' successfully unpacked and MD5 sums checked\n",
      "\n",
      "The downloaded binary packages are in\n",
      "\tC:\\Users\\Song\\AppData\\Local\\Temp\\RtmpWAK3GK\\downloaded_packages\n"
     ]
    },
    {
     "name": "stderr",
     "output_type": "stream",
     "text": [
      "Warning message:\n",
      "\"package 'rpart' was built under R version 3.6.3\"\n",
      "Warning message:\n",
      "\"package 'rpart.plot' was built under R version 3.6.3\"\n"
     ]
    }
   ],
   "source": [
    "install.packages(\"rpart.plot\")\n",
    "library(rpart)\n",
    "library(rpart.plot)"
   ]
  },
  {
   "cell_type": "code",
   "execution_count": 54,
   "metadata": {},
   "outputs": [
    {
     "name": "stderr",
     "output_type": "stream",
     "text": [
      "Your code contains a unicode char which cannot be displayed in your\n",
      "current locale and R will silently convert it to an escaped form when the\n",
      "R kernel executes this code. This can lead to subtle errors if you use\n",
      "such chars to do comparisons. For more information, please see\n",
      "https://github.com/IRkernel/repr/wiki/Problems-with-unicode-on-windows"
     ]
    }
   ],
   "source": [
    "\n",
    "\n",
    "# Temporary only select numeric features \n",
    "model2_data = data\n",
    "\n",
    "# We don't need to define the parameters for the Cross-Validation, \n",
    "# the rpart algorithm uses 10-fold CV internally. \n",
    "\n",
    "# Create the tree model. since rpart is not really efficiënt, we're going to use \n",
    "# a subset of features that yielded the best results while testing this. \n",
    "model2 <- rpart(status_group~ amount_tsh  + region_code + district_code + extraction_type + \n",
    "                extraction_type_class + source_type + quantity + quantity_group + \n",
    "                 waterpoint_type + payment + payment_type + source_class, \n",
    "                data = model2_data, method = 'class', control=rpart.control(minsplit=2, minbucket=1, cp=0.005))\n"
   ]
  },
  {
   "cell_type": "code",
   "execution_count": 55,
   "metadata": {},
   "outputs": [
    {
     "name": "stdout",
     "output_type": "stream",
     "text": [
      "\n",
      "Classification tree:\n",
      "rpart(formula = status_group ~ amount_tsh + region_code + district_code + \n",
      "    extraction_type + extraction_type_class + source_type + quantity + \n",
      "    quantity_group + waterpoint_type + payment + payment_type + \n",
      "    source_class, data = model2_data, method = \"class\", control = rpart.control(minsplit = 2, \n",
      "    minbucket = 1, cp = 0.005))\n",
      "\n",
      "Variables actually used in tree construction:\n",
      "[1] district_code   extraction_type payment         quantity       \n",
      "[5] waterpoint_type\n",
      "\n",
      "Root node error: 4548/10000 = 0.4548\n",
      "\n",
      "n= 10000 \n",
      "\n",
      "         CP nsplit rel error  xerror      xstd\n",
      "1 0.2247142      0   1.00000 1.00000 0.0109488\n",
      "2 0.1029024      1   0.77529 0.77529 0.0105053\n",
      "3 0.0117634      2   0.67238 0.67260 0.0101317\n",
      "4 0.0114336      4   0.64886 0.65501 0.0100557\n",
      "5 0.0061566      6   0.62599 0.63764 0.0099772\n",
      "6 0.0050000      8   0.61368 0.62577 0.0099214\n"
     ]
    },
    {
     "data": {
      "image/png": "[encoded data removed]",
      "text/plain": [
       "plot without title"
      ]
     },
     "metadata": {
      "image/png": {
       "height": 420,
       "width": 420
      }
     },
     "output_type": "display_data"
    }
   ],
   "source": [
    "\n",
    "# How well does this model work?\n",
    "# First we're going to view which variables it actually used (we used this info to select specific features for this model)\n",
    "printcp(model2)\n",
    "\n",
    "# visualize cross-validation results \n",
    "plotcp(model2) \n",
    "\n"
   ]
  },
  {
   "cell_type": "markdown",
   "metadata": {},
   "source": [
    "The rpart algorithm was really struggling to create a good fit in time. Even with only a few features selected, it got a root node error of 0.448. and this was after CV as well (see image)"
   ]
  },
  {
   "cell_type": "markdown",
   "metadata": {},
   "source": [
    "## Model 3: Random Forest"
   ]
  },
  {
   "cell_type": "code",
   "execution_count": 57,
   "metadata": {
    "pycharm": {
     "name": "#%%\n"
    }
   },
   "outputs": [
    {
     "name": "stdout",
     "output_type": "stream",
     "text": [
      "package 'randomForest' successfully unpacked and MD5 sums checked\n",
      "\n",
      "The downloaded binary packages are in\n",
      "\tC:\\Users\\Song\\AppData\\Local\\Temp\\RtmpWAK3GK\\downloaded_packages\n"
     ]
    },
    {
     "name": "stderr",
     "output_type": "stream",
     "text": [
      "Warning message:\n",
      "\"package 'randomForest' was built under R version 3.6.3\"\n",
      "randomForest 4.6-14\n",
      "\n",
      "Type rfNews() to see new features/changes/bug fixes.\n",
      "\n",
      "\n",
      "Attaching package: 'randomForest'\n",
      "\n",
      "\n",
      "The following object is masked from 'package:ggplot2':\n",
      "\n",
      "    margin\n",
      "\n",
      "\n",
      "The following object is masked from 'package:outliers':\n",
      "\n",
      "    outlier\n",
      "\n",
      "\n",
      "The following object is masked from 'package:dplyr':\n",
      "\n",
      "    combine\n",
      "\n",
      "\n"
     ]
    }
   ],
   "source": [
    "install.packages(\"randomForest\")\n",
    "library(randomForest)"
   ]
  },
  {
   "cell_type": "markdown",
   "metadata": {
    "pycharm": {
     "name": "#%%\n"
    }
   },
   "source": [
    "The last model that we're going to try is a random forest classifier. We've explained why in our report.\n",
    "There is no need for CV to get an estimate for the dataset error, since it is estimated internally during the runtime of the algorithm. After the run, we receive an OOB estimate that we will use to compare the model with other models.\n"
   ]
  },
  {
   "cell_type": "code",
   "execution_count": 79,
   "metadata": {
    "pycharm": {
     "name": "#%%\n"
    }
   },
   "outputs": [],
   "source": [
    "\n",
    "# First make sure that the 'id' column is not in the training dataset \n",
    "# (but we still need it to link it to the test values)\n",
    "rfdata = data[ , -which(names(data) %in% c(\"id\", \"scheme_management\", \"funder\", \"installer\", \"public_meeting\", \"permit\", \"management_group\", \"source_class\"))]\n",
    "rfdata1 = rfdata[,-which(names(rfdata) %in% c(\"amount_tsh\",\"date_recorded\",\"gps_height\"))]\n",
    "\n",
    "# Create the RandomForest model. We're going to use 400 trees since this yielded the best results.\n",
    "model1 <- randomForest(status_group ~ ., data = rfdata1, ntrees = 400, importance = TRUE, na.action = na.omit)\n"
   ]
  },
  {
   "cell_type": "code",
   "execution_count": 67,
   "metadata": {},
   "outputs": [
    {
     "name": "stdout",
     "output_type": "stream",
     "text": [
      "\n",
      "Call:\n",
      " randomForest(formula = status_group ~ ., data = rfdata1, ntrees = 400,      importance = TRUE, na.action = na.omit) \n",
      "               Type of random forest: classification\n",
      "                     Number of trees: 500\n",
      "No. of variables tried at each split: 4\n",
      "\n",
      "        OOB estimate of  error rate: 23.42%\n",
      "Confusion matrix:\n",
      "                        functional functional needs repair non functional\n",
      "functional                    4847                      86            519\n",
      "functional needs repair        490                     163            138\n",
      "non functional                1039                      70           2648\n",
      "                        class.error\n",
      "functional                0.1109685\n",
      "functional needs repair   0.7939317\n",
      "non functional            0.2951823\n"
     ]
    },
    {
     "data": {
      "image/png": "[encoded data removed]",
      "text/plain": [
       "plot without title"
      ]
     },
     "metadata": {
      "image/png": {
       "height": 420,
       "width": 420
      }
     },
     "output_type": "display_data"
    }
   ],
   "source": [
    "# Show OOB estimate of error rate of model\n",
    "print(model1)\n",
    "\n",
    "# Show the importance of each feature after first run\n",
    "varImpPlot(model1)\n"
   ]
  },
  {
   "cell_type": "markdown",
   "metadata": {},
   "source": [
    "We saw already a great improvement! Using the data of the MeanDecreaseAccuracy, we knew which variables had the greatest impact in the model. THis allowed us to make the final decision to include which features. It is still not perfect however: If we take a look at the confusion matrix and the results of the model, we see that our model has trouble correctly classifying functional needs repair pumps.  \n",
    "\n",
    "\n",
    "### Model 2: Neirest Neighbours\n",
    "\n",
    "The next model we're going to try is created using KNN. Each entry will be classified based on the euclidian distances using the selected features and their dimensions. A requirement of course is that the distance needs to be calculated, and needs to make sense. This might be a problem for categorical features, but we already took care of most of them in the preprocessing phase. \\newline\n",
    "\n",
    "To validate our model, we still need to add some things since the knn algorithm does not provide this by itself. There is however a function \\textbf{knn.cv} in the \\textbf{class} packages which uses k-fold cross validation, and we will manually create the confusion table afterwards.\n"
   ]
  },
  {
   "cell_type": "code",
   "execution_count": 59,
   "metadata": {},
   "outputs": [
    {
     "name": "stdout",
     "output_type": "stream",
     "text": [
      "package 'class' successfully unpacked and MD5 sums checked\n"
     ]
    },
    {
     "name": "stderr",
     "output_type": "stream",
     "text": [
      "Warning message:\n",
      "\"cannot remove prior installation of package 'class'\"\n",
      "Warning message in file.copy(savedcopy, lib, recursive = TRUE):\n",
      "\"拷贝D:\\Anaconda\\Lib\\R\\library\\00LOCK\\class\\libs\\x64\\class.dll到D:\\Anaconda\\Lib\\R\\library\\class\\libs\\x64\\class.dll时出了问题：Permission denied \"\n",
      "Warning message:\n",
      "\"restored 'class'\"\n"
     ]
    },
    {
     "name": "stdout",
     "output_type": "stream",
     "text": [
      "\n",
      "The downloaded binary packages are in\n",
      "\tC:\\Users\\Song\\AppData\\Local\\Temp\\RtmpWAK3GK\\downloaded_packages\n"
     ]
    },
    {
     "name": "stderr",
     "output_type": "stream",
     "text": [
      "Warning message:\n",
      "\"package 'class' was built under R version 3.6.3\"\n"
     ]
    }
   ],
   "source": [
    "install.packages(\"class\")\n",
    "library(class)"
   ]
  },
  {
   "cell_type": "code",
   "execution_count": 60,
   "metadata": {},
   "outputs": [
    {
     "data": {
      "text/plain": [
       "   amount_tsh       gps_height      region_code   district_code   \n",
       " Min.   :     2   Min.   : -51.0   Min.   : 1.0   Min.   : 0.000  \n",
       " 1st Qu.:  1000   1st Qu.:   0.0   1st Qu.: 5.0   1st Qu.: 2.000  \n",
       " Median :  1092   Median : 444.0   Median :12.0   Median : 3.000  \n",
       " Mean   :  1080   Mean   : 699.1   Mean   :14.9   Mean   : 5.826  \n",
       " 3rd Qu.:  1092   3rd Qu.:1341.2   3rd Qu.:17.0   3rd Qu.: 5.000  \n",
       " Max.   :117000   Max.   :2560.0   Max.   :99.0   Max.   :80.000  "
      ]
     },
     "metadata": {},
     "output_type": "display_data"
    }
   ],
   "source": [
    "# Temporary only select numeric features \n",
    "knndata = data %>% select_if(sapply(., is.numeric))\n",
    "knndata = knndata[ , -which(names(data) %in% c(\"id\"))]\n",
    "\n",
    "summary(knndata)\n",
    "      "
   ]
  },
  {
   "cell_type": "code",
   "execution_count": 61,
   "metadata": {},
   "outputs": [],
   "source": [
    "# We need of course to evaluate our model using cross-validation. \n",
    "# The 'class' package gives us a knn.cv method which will perform this \n",
    "# using leave-one-out cross validation. Variable k defines the number of neighbours considered \n",
    "# and the amount of folds  in the CV process. \n",
    "\n",
    "# Create model\n",
    "model3 <- knn.cv(knndata, data$status_group, k = 10, prob=TRUE)"
   ]
  },
  {
   "cell_type": "markdown",
   "metadata": {},
   "source": [
    "This yields the following confusion matrix and gave an accuracy of 0.65. Even after some tuning, we knew the Random Forest one was better."
   ]
  },
  {
   "cell_type": "code",
   "execution_count": 62,
   "metadata": {},
   "outputs": [
    {
     "data": {
      "text/plain": [
       "                         \n",
       "model3                    functional functional needs repair non functional\n",
       "  functional                    4096                     459           1772\n",
       "  functional needs repair        102                     104             63\n",
       "  non functional                1254                     228           1922"
      ]
     },
     "metadata": {},
     "output_type": "display_data"
    },
    {
     "data": {
      "text/html": [
       "0.6122"
      ],
      "text/latex": [
       "0.6122"
      ],
      "text/markdown": [
       "0.6122"
      ],
      "text/plain": [
       "[1] 0.6122"
      ]
     },
     "metadata": {},
     "output_type": "display_data"
    }
   ],
   "source": [
    "# To verify our results, we will create a confusion matrix to calculate the error: \n",
    "confusion_matrix <- table(model3, data$status_group)\n",
    "confusion_matrix\n",
    "\n",
    "accuracy <- sum(diag(confusion_matrix)) / sum(confusion_matrix)\n",
    "accuracy\n"
   ]
  },
  {
   "cell_type": "markdown",
   "metadata": {},
   "source": [
    "### Model 4: XGBoost\n",
    "\n",
    "XGBoost is an optimized distributed gradient boosting library designed to be highly efficient, flexible and portable. It implements machine learning algorithms under the Gradient Boosting framework. XGBoost provides a parallel tree boosting (also known as GBDT, GBM) that solve many data science problems in a fast and accurate way. "
   ]
  },
  {
   "cell_type": "code",
   "execution_count": 16,
   "metadata": {},
   "outputs": [
    {
     "name": "stderr",
     "output_type": "stream",
     "text": [
      "Warning message:\n",
      "\"package 'xgboost' was built under R version 3.6.3\"\n",
      "\n",
      "Attaching package: 'xgboost'\n",
      "\n",
      "\n",
      "The following object is masked from 'package:dplyr':\n",
      "\n",
      "    slice\n",
      "\n",
      "\n",
      "Warning message:\n",
      "\"package 'Matrix' was built under R version 3.6.3\"\n",
      "Warning message:\n",
      "\"package 'MatrixModels' was built under R version 3.6.3\"\n",
      "Warning message:\n",
      "\"package 'data.table' was built under R version 3.6.3\"\n",
      "\n",
      "Attaching package: 'data.table'\n",
      "\n",
      "\n",
      "The following objects are masked from 'package:dplyr':\n",
      "\n",
      "    between, first, last\n",
      "\n",
      "\n"
     ]
    }
   ],
   "source": [
    "install.packages(\"xgboost\")\n",
    "install.packages(\"Matrix\")\n",
    "install.packages(\"MatrixModels\")\n",
    "install.packages(\"data.table\")\n",
    "\n",
    "library(xgboost)\n",
    "library(Matrix)\n",
    "library(MatrixModels)\n",
    "library(data.table)"
   ]
  },
  {
   "cell_type": "code",
   "execution_count": 71,
   "metadata": {},
   "outputs": [],
   "source": [
    "train_xgb <- data\n",
    "train_xgb <- subset(train_xgb, select = c(-id,-status_group))\n",
    "train_xgb <- as.matrix(as.data.frame(lapply(train_xgb, as.numeric)))\n",
    "label_xgb <- data$status_group\n",
    "label_xgb <-as.numeric(label_xgb)"
   ]
  },
  {
   "cell_type": "code",
   "execution_count": 72,
   "metadata": {},
   "outputs": [],
   "source": [
    "train.DMatrix <- xgb.DMatrix(data = train_xgb,label = label_xgb, missing = NA)"
   ]
  },
  {
   "cell_type": "code",
   "execution_count": 91,
   "metadata": {},
   "outputs": [
    {
     "data": {
      "text/html": [
       "3"
      ],
      "text/latex": [
       "3"
      ],
      "text/markdown": [
       "3"
      ],
      "text/plain": [
       "[1] 3"
      ]
     },
     "metadata": {},
     "output_type": "display_data"
    }
   ],
   "source": [
    "length(unique(label_xgb))"
   ]
  },
  {
   "cell_type": "code",
   "execution_count": 73,
   "metadata": {},
   "outputs": [
    {
     "name": "stdout",
     "output_type": "stream",
     "text": [
      "[11:35:31] WARNING: amalgamation/../src/learner.cc:1095: Starting in XGBoost 1.3.0, the default evaluation metric used with the objective 'multi:softmax' was changed from 'merror' to 'mlogloss'. Explicitly set eval_metric if you'd like to restore the old behavior.\n",
      "[11:35:31] WARNING: amalgamation/../src/learner.cc:1095: Starting in XGBoost 1.3.0, the default evaluation metric used with the objective 'multi:softmax' was changed from 'merror' to 'mlogloss'. Explicitly set eval_metric if you'd like to restore the old behavior.\n",
      "[11:35:32] WARNING: amalgamation/../src/learner.cc:1095: Starting in XGBoost 1.3.0, the default evaluation metric used with the objective 'multi:softmax' was changed from 'merror' to 'mlogloss'. Explicitly set eval_metric if you'd like to restore the old behavior.\n",
      "[11:35:32] WARNING: amalgamation/../src/learner.cc:1095: Starting in XGBoost 1.3.0, the default evaluation metric used with the objective 'multi:softmax' was changed from 'merror' to 'mlogloss'. Explicitly set eval_metric if you'd like to restore the old behavior.\n",
      "[1]\ttrain-mlogloss:1.188760+0.009406\ttest-mlogloss:1.210454+0.011779 \n",
      "Multiple eval metrics are present. Will use test_mlogloss for early stopping.\n",
      "Will train until test_mlogloss hasn't improved in 10 rounds.\n",
      "\n",
      "[2]\ttrain-mlogloss:1.040531+0.003745\ttest-mlogloss:1.083857+0.002695 \n",
      "[3]\ttrain-mlogloss:0.919063+0.001859\ttest-mlogloss:0.980770+0.002955 \n",
      "[4]\ttrain-mlogloss:0.823990+0.001475\ttest-mlogloss:0.905547+0.004683 \n",
      "[5]\ttrain-mlogloss:0.743797+0.003288\ttest-mlogloss:0.844641+0.006059 \n",
      "[6]\ttrain-mlogloss:0.680460+0.002218\ttest-mlogloss:0.796118+0.007838 \n",
      "[7]\ttrain-mlogloss:0.627859+0.003735\ttest-mlogloss:0.757804+0.008069 \n",
      "[8]\ttrain-mlogloss:0.583918+0.001869\ttest-mlogloss:0.726741+0.008032 \n",
      "[9]\ttrain-mlogloss:0.545434+0.001960\ttest-mlogloss:0.700043+0.010854 \n",
      "[10]\ttrain-mlogloss:0.512207+0.003407\ttest-mlogloss:0.678758+0.010114 \n",
      "[11]\ttrain-mlogloss:0.483700+0.005388\ttest-mlogloss:0.661070+0.011141 \n",
      "[12]\ttrain-mlogloss:0.458807+0.004879\ttest-mlogloss:0.646205+0.011995 \n",
      "[13]\ttrain-mlogloss:0.435858+0.005401\ttest-mlogloss:0.632942+0.011679 \n",
      "[14]\ttrain-mlogloss:0.415775+0.004938\ttest-mlogloss:0.622598+0.012106 \n",
      "[15]\ttrain-mlogloss:0.398659+0.005866\ttest-mlogloss:0.614183+0.011951 \n",
      "[16]\ttrain-mlogloss:0.383553+0.007187\ttest-mlogloss:0.606639+0.012901 \n",
      "[17]\ttrain-mlogloss:0.368960+0.005086\ttest-mlogloss:0.599944+0.012993 \n",
      "[18]\ttrain-mlogloss:0.355273+0.004543\ttest-mlogloss:0.594406+0.012551 \n",
      "[19]\ttrain-mlogloss:0.344114+0.003920\ttest-mlogloss:0.589933+0.012985 \n",
      "[20]\ttrain-mlogloss:0.334783+0.004468\ttest-mlogloss:0.586626+0.013130 \n",
      "[21]\ttrain-mlogloss:0.324645+0.005299\ttest-mlogloss:0.583114+0.013236 \n",
      "[22]\ttrain-mlogloss:0.314812+0.005890\ttest-mlogloss:0.580934+0.013428 \n",
      "[23]\ttrain-mlogloss:0.307839+0.006881\ttest-mlogloss:0.578761+0.013574 \n",
      "[24]\ttrain-mlogloss:0.301335+0.007289\ttest-mlogloss:0.577567+0.013908 \n",
      "[25]\ttrain-mlogloss:0.295458+0.006150\ttest-mlogloss:0.576510+0.014128 \n",
      "[26]\ttrain-mlogloss:0.289175+0.006419\ttest-mlogloss:0.575821+0.014216 \n",
      "[27]\ttrain-mlogloss:0.284128+0.006208\ttest-mlogloss:0.575156+0.014442 \n",
      "[28]\ttrain-mlogloss:0.279269+0.006347\ttest-mlogloss:0.574175+0.014667 \n",
      "[29]\ttrain-mlogloss:0.275123+0.006217\ttest-mlogloss:0.573534+0.014807 \n",
      "[30]\ttrain-mlogloss:0.271171+0.006057\ttest-mlogloss:0.572897+0.015001 \n",
      "[31]\ttrain-mlogloss:0.268145+0.005495\ttest-mlogloss:0.572791+0.015668 \n",
      "[32]\ttrain-mlogloss:0.263944+0.005733\ttest-mlogloss:0.573162+0.015634 \n",
      "[33]\ttrain-mlogloss:0.260131+0.005570\ttest-mlogloss:0.572972+0.015355 \n",
      "[34]\ttrain-mlogloss:0.256456+0.005924\ttest-mlogloss:0.572973+0.015470 \n",
      "[35]\ttrain-mlogloss:0.253037+0.005533\ttest-mlogloss:0.573338+0.015729 \n",
      "[36]\ttrain-mlogloss:0.249951+0.005605\ttest-mlogloss:0.573735+0.015790 \n",
      "[37]\ttrain-mlogloss:0.246776+0.006146\ttest-mlogloss:0.574049+0.015742 \n",
      "[38]\ttrain-mlogloss:0.244476+0.006475\ttest-mlogloss:0.574221+0.015788 \n",
      "[39]\ttrain-mlogloss:0.241519+0.006346\ttest-mlogloss:0.574556+0.015729 \n",
      "[40]\ttrain-mlogloss:0.239235+0.006447\ttest-mlogloss:0.574785+0.016038 \n",
      "[41]\ttrain-mlogloss:0.237295+0.006516\ttest-mlogloss:0.575171+0.016096 \n",
      "Stopping. Best iteration:\n",
      "[31]\ttrain-mlogloss:0.268145+0.005495\ttest-mlogloss:0.572791+0.015668\n",
      "\n"
     ]
    }
   ],
   "source": [
    "xgb.tab = xgb.cv(data = train.DMatrix, objective = \"multi:softmax\", booster = \"gbtree\",\n",
    "                 nrounds = 500, nfold = 4, early_stopping_rounds = 10, num_class = length(unique(label_xgb)), maximize = FALSE,\n",
    "                 evaluation = \"merror\", eta = .2, max_depth = 12, colsample_bytree = .4)"
   ]
  },
  {
   "cell_type": "code",
   "execution_count": 81,
   "metadata": {},
   "outputs": [
    {
     "name": "stdout",
     "output_type": "stream",
     "text": [
      "[1]\ttrain-merror:0.175700 \n",
      "[2]\ttrain-merror:0.154100 \n",
      "[3]\ttrain-merror:0.147800 \n",
      "[4]\ttrain-merror:0.141500 \n",
      "[5]\ttrain-merror:0.135600 \n",
      "[6]\ttrain-merror:0.130000 \n",
      "[7]\ttrain-merror:0.124700 \n",
      "[8]\ttrain-merror:0.123300 \n",
      "[9]\ttrain-merror:0.111600 \n",
      "[10]\ttrain-merror:0.110500 \n",
      "[11]\ttrain-merror:0.106200 \n",
      "[12]\ttrain-merror:0.104600 \n",
      "[13]\ttrain-merror:0.101200 \n",
      "[14]\ttrain-merror:0.097700 \n",
      "[15]\ttrain-merror:0.094200 \n",
      "[16]\ttrain-merror:0.090700 \n",
      "[17]\ttrain-merror:0.086700 \n",
      "[18]\ttrain-merror:0.085800 \n",
      "[19]\ttrain-merror:0.083000 \n",
      "[20]\ttrain-merror:0.080500 \n",
      "[21]\ttrain-merror:0.078300 \n",
      "[22]\ttrain-merror:0.075400 \n",
      "[23]\ttrain-merror:0.073500 \n",
      "[24]\ttrain-merror:0.072300 \n",
      "[25]\ttrain-merror:0.070400 \n",
      "[26]\ttrain-merror:0.067400 \n",
      "[27]\ttrain-merror:0.067000 \n",
      "[28]\ttrain-merror:0.065200 \n",
      "[29]\ttrain-merror:0.063500 \n",
      "[30]\ttrain-merror:0.062900 \n",
      "[31]\ttrain-merror:0.061000 \n",
      "[32]\ttrain-merror:0.059800 \n",
      "[33]\ttrain-merror:0.058600 \n"
     ]
    }
   ],
   "source": [
    "model4 <- xgboost(data = train.DMatrix, objective = \"multi:softmax\", booster = \"gbtree\",\n",
    "                  eval_metric = \"merror\", nrounds = 33, \n",
    "                  num_class = 4,eta = .2, max_depth = 14, colsample_bytree = .4,  verbose = 1)"
   ]
  },
  {
   "cell_type": "code",
   "execution_count": 78,
   "metadata": {},
   "outputs": [],
   "source": [
    "testing4 <- test[ , -which(names(test) %in% c(\"id\"))]\n",
    "test_xgb <- as.matrix(as.data.frame(lapply(testing4, as.numeric)))"
   ]
  },
  {
   "cell_type": "code",
   "execution_count": 44,
   "metadata": {},
   "outputs": [
    {
     "data": {
      "text/plain": [
       "predict4\n",
       "             functional functional needs repair          non functional \n",
       "                   9791                     251                    4808 "
      ]
     },
     "metadata": {},
     "output_type": "display_data"
    }
   ],
   "source": [
    "predict4 <- predict(model4, test_xgb)\n",
    "predict4[predict4==1]<-\"functional\"\n",
    "predict4[predict4==2]<-\"functional needs repair\"\n",
    "predict4[predict4==3]<-\"non functional\"\n",
    "\n",
    "#View prediction\n",
    "table(predict4)"
   ]
  },
  {
   "cell_type": "code",
   "execution_count": null,
   "metadata": {},
   "outputs": [],
   "source": [
    "colnames(testing4)"
   ]
  },
  {
   "cell_type": "code",
   "execution_count": 87,
   "metadata": {},
   "outputs": [
    {
     "name": "stdout",
     "output_type": "stream",
     "text": [
      "[1] \"test-error= NaN\"\n"
     ]
    }
   ],
   "source": [
    "err <- mean(as.numeric(predict4 > 0.5) != testing4$status_group)\n",
    "print(paste(\"test-error=\", err))"
   ]
  },
  {
   "cell_type": "code",
   "execution_count": 76,
   "metadata": {},
   "outputs": [
    {
     "data": {
      "text/html": [
       "<table>\n",
       "<thead><tr><th scope=col>Feature</th><th scope=col>Gain</th><th scope=col>Cover</th><th scope=col>Frequency</th></tr></thead>\n",
       "<tbody>\n",
       "\t<tr><td>date_recorded        </td><td>0.113363092          </td><td>0.115021729          </td><td>0.150132085          </td></tr>\n",
       "\t<tr><td>quantity_group       </td><td>0.101663462          </td><td>0.045743788          </td><td>0.029529464          </td></tr>\n",
       "\t<tr><td>quantity             </td><td>0.084558873          </td><td>0.042646166          </td><td>0.028823268          </td></tr>\n",
       "\t<tr><td>gps_height           </td><td>0.079791664          </td><td>0.106712702          </td><td>0.089713075          </td></tr>\n",
       "\t<tr><td>region_code          </td><td>0.073842787          </td><td>0.062263361          </td><td>0.067167107          </td></tr>\n",
       "\t<tr><td>waterpoint_type_group</td><td>0.064985050          </td><td>0.028351370          </td><td>0.009494416          </td></tr>\n",
       "\t<tr><td>district_code        </td><td>0.042868798          </td><td>0.058212573          </td><td>0.069704182          </td></tr>\n",
       "\t<tr><td>installer            </td><td>0.041036739          </td><td>0.043105165          </td><td>0.056417231          </td></tr>\n",
       "\t<tr><td>basin                </td><td>0.037007178          </td><td>0.042274816          </td><td>0.048178275          </td></tr>\n",
       "\t<tr><td>extraction_type      </td><td>0.035269093          </td><td>0.029344070          </td><td>0.034577459          </td></tr>\n",
       "\t<tr><td>extraction_type_group</td><td>0.029327102          </td><td>0.029573953          </td><td>0.027855517          </td></tr>\n",
       "\t<tr><td>scheme_management    </td><td>0.028747122          </td><td>0.029090605          </td><td>0.031386499          </td></tr>\n",
       "\t<tr><td>source               </td><td>0.028227672          </td><td>0.032159483          </td><td>0.040959381          </td></tr>\n",
       "\t<tr><td>funder               </td><td>0.027057150          </td><td>0.047503757          </td><td>0.045641200          </td></tr>\n",
       "\t<tr><td>payment_type         </td><td>0.025941002          </td><td>0.024103018          </td><td>0.016530223          </td></tr>\n",
       "\t<tr><td>payment              </td><td>0.025159287          </td><td>0.040235949          </td><td>0.041273246          </td></tr>\n",
       "\t<tr><td>management           </td><td>0.021603213          </td><td>0.030830472          </td><td>0.030680302          </td></tr>\n",
       "\t<tr><td>waterpoint_type      </td><td>0.021376567          </td><td>0.043415595          </td><td>0.021787461          </td></tr>\n",
       "\t<tr><td>extraction_type_class</td><td>0.020427391          </td><td>0.027493173          </td><td>0.013966992          </td></tr>\n",
       "\t<tr><td>amount_tsh           </td><td>0.018275143          </td><td>0.035715603          </td><td>0.032537337          </td></tr>\n",
       "\t<tr><td>source_type          </td><td>0.017659705          </td><td>0.016351515          </td><td>0.025109199          </td></tr>\n",
       "\t<tr><td>permit               </td><td>0.014453657          </td><td>0.012285146          </td><td>0.019930427          </td></tr>\n",
       "\t<tr><td>water_quality        </td><td>0.013217796          </td><td>0.016898592          </td><td>0.022885989          </td></tr>\n",
       "\t<tr><td>management_group     </td><td>0.010731174          </td><td>0.010159598          </td><td>0.010383700          </td></tr>\n",
       "\t<tr><td>public_meeting       </td><td>0.009908551          </td><td>0.011457425          </td><td>0.013783904          </td></tr>\n",
       "\t<tr><td>source_class         </td><td>0.007386848          </td><td>0.007129025          </td><td>0.010436011          </td></tr>\n",
       "\t<tr><td>quality_group        </td><td>0.006113886          </td><td>0.011921350          </td><td>0.011116052          </td></tr>\n",
       "</tbody>\n",
       "</table>\n"
      ],
      "text/latex": [
       "\\begin{tabular}{r|llll}\n",
       " Feature & Gain & Cover & Frequency\\\\\n",
       "\\hline\n",
       "\t date\\_recorded         & 0.113363092             & 0.115021729             & 0.150132085            \\\\\n",
       "\t quantity\\_group        & 0.101663462             & 0.045743788             & 0.029529464            \\\\\n",
       "\t quantity              & 0.084558873           & 0.042646166           & 0.028823268          \\\\\n",
       "\t gps\\_height            & 0.079791664             & 0.106712702             & 0.089713075            \\\\\n",
       "\t region\\_code           & 0.073842787             & 0.062263361             & 0.067167107            \\\\\n",
       "\t waterpoint\\_type\\_group & 0.064985050               & 0.028351370               & 0.009494416              \\\\\n",
       "\t district\\_code         & 0.042868798             & 0.058212573             & 0.069704182            \\\\\n",
       "\t installer             & 0.041036739           & 0.043105165           & 0.056417231          \\\\\n",
       "\t basin                 & 0.037007178           & 0.042274816           & 0.048178275          \\\\\n",
       "\t extraction\\_type       & 0.035269093             & 0.029344070             & 0.034577459            \\\\\n",
       "\t extraction\\_type\\_group & 0.029327102               & 0.029573953               & 0.027855517              \\\\\n",
       "\t scheme\\_management     & 0.028747122             & 0.029090605             & 0.031386499            \\\\\n",
       "\t source                & 0.028227672           & 0.032159483           & 0.040959381          \\\\\n",
       "\t funder                & 0.027057150           & 0.047503757           & 0.045641200          \\\\\n",
       "\t payment\\_type          & 0.025941002             & 0.024103018             & 0.016530223            \\\\\n",
       "\t payment               & 0.025159287           & 0.040235949           & 0.041273246          \\\\\n",
       "\t management            & 0.021603213           & 0.030830472           & 0.030680302          \\\\\n",
       "\t waterpoint\\_type       & 0.021376567             & 0.043415595             & 0.021787461            \\\\\n",
       "\t extraction\\_type\\_class & 0.020427391               & 0.027493173               & 0.013966992              \\\\\n",
       "\t amount\\_tsh            & 0.018275143             & 0.035715603             & 0.032537337            \\\\\n",
       "\t source\\_type           & 0.017659705             & 0.016351515             & 0.025109199            \\\\\n",
       "\t permit                & 0.014453657           & 0.012285146           & 0.019930427          \\\\\n",
       "\t water\\_quality         & 0.013217796             & 0.016898592             & 0.022885989            \\\\\n",
       "\t management\\_group      & 0.010731174             & 0.010159598             & 0.010383700            \\\\\n",
       "\t public\\_meeting        & 0.009908551             & 0.011457425             & 0.013783904            \\\\\n",
       "\t source\\_class          & 0.007386848             & 0.007129025             & 0.010436011            \\\\\n",
       "\t quality\\_group         & 0.006113886             & 0.011921350             & 0.011116052            \\\\\n",
       "\\end{tabular}\n"
      ],
      "text/markdown": [
       "\n",
       "| Feature | Gain | Cover | Frequency |\n",
       "|---|---|---|---|\n",
       "| date_recorded         | 0.113363092           | 0.115021729           | 0.150132085           |\n",
       "| quantity_group        | 0.101663462           | 0.045743788           | 0.029529464           |\n",
       "| quantity              | 0.084558873           | 0.042646166           | 0.028823268           |\n",
       "| gps_height            | 0.079791664           | 0.106712702           | 0.089713075           |\n",
       "| region_code           | 0.073842787           | 0.062263361           | 0.067167107           |\n",
       "| waterpoint_type_group | 0.064985050           | 0.028351370           | 0.009494416           |\n",
       "| district_code         | 0.042868798           | 0.058212573           | 0.069704182           |\n",
       "| installer             | 0.041036739           | 0.043105165           | 0.056417231           |\n",
       "| basin                 | 0.037007178           | 0.042274816           | 0.048178275           |\n",
       "| extraction_type       | 0.035269093           | 0.029344070           | 0.034577459           |\n",
       "| extraction_type_group | 0.029327102           | 0.029573953           | 0.027855517           |\n",
       "| scheme_management     | 0.028747122           | 0.029090605           | 0.031386499           |\n",
       "| source                | 0.028227672           | 0.032159483           | 0.040959381           |\n",
       "| funder                | 0.027057150           | 0.047503757           | 0.045641200           |\n",
       "| payment_type          | 0.025941002           | 0.024103018           | 0.016530223           |\n",
       "| payment               | 0.025159287           | 0.040235949           | 0.041273246           |\n",
       "| management            | 0.021603213           | 0.030830472           | 0.030680302           |\n",
       "| waterpoint_type       | 0.021376567           | 0.043415595           | 0.021787461           |\n",
       "| extraction_type_class | 0.020427391           | 0.027493173           | 0.013966992           |\n",
       "| amount_tsh            | 0.018275143           | 0.035715603           | 0.032537337           |\n",
       "| source_type           | 0.017659705           | 0.016351515           | 0.025109199           |\n",
       "| permit                | 0.014453657           | 0.012285146           | 0.019930427           |\n",
       "| water_quality         | 0.013217796           | 0.016898592           | 0.022885989           |\n",
       "| management_group      | 0.010731174           | 0.010159598           | 0.010383700           |\n",
       "| public_meeting        | 0.009908551           | 0.011457425           | 0.013783904           |\n",
       "| source_class          | 0.007386848           | 0.007129025           | 0.010436011           |\n",
       "| quality_group         | 0.006113886           | 0.011921350           | 0.011116052           |\n",
       "\n"
      ],
      "text/plain": [
       "   Feature               Gain        Cover       Frequency  \n",
       "1  date_recorded         0.113363092 0.115021729 0.150132085\n",
       "2  quantity_group        0.101663462 0.045743788 0.029529464\n",
       "3  quantity              0.084558873 0.042646166 0.028823268\n",
       "4  gps_height            0.079791664 0.106712702 0.089713075\n",
       "5  region_code           0.073842787 0.062263361 0.067167107\n",
       "6  waterpoint_type_group 0.064985050 0.028351370 0.009494416\n",
       "7  district_code         0.042868798 0.058212573 0.069704182\n",
       "8  installer             0.041036739 0.043105165 0.056417231\n",
       "9  basin                 0.037007178 0.042274816 0.048178275\n",
       "10 extraction_type       0.035269093 0.029344070 0.034577459\n",
       "11 extraction_type_group 0.029327102 0.029573953 0.027855517\n",
       "12 scheme_management     0.028747122 0.029090605 0.031386499\n",
       "13 source                0.028227672 0.032159483 0.040959381\n",
       "14 funder                0.027057150 0.047503757 0.045641200\n",
       "15 payment_type          0.025941002 0.024103018 0.016530223\n",
       "16 payment               0.025159287 0.040235949 0.041273246\n",
       "17 management            0.021603213 0.030830472 0.030680302\n",
       "18 waterpoint_type       0.021376567 0.043415595 0.021787461\n",
       "19 extraction_type_class 0.020427391 0.027493173 0.013966992\n",
       "20 amount_tsh            0.018275143 0.035715603 0.032537337\n",
       "21 source_type           0.017659705 0.016351515 0.025109199\n",
       "22 permit                0.014453657 0.012285146 0.019930427\n",
       "23 water_quality         0.013217796 0.016898592 0.022885989\n",
       "24 management_group      0.010731174 0.010159598 0.010383700\n",
       "25 public_meeting        0.009908551 0.011457425 0.013783904\n",
       "26 source_class          0.007386848 0.007129025 0.010436011\n",
       "27 quality_group         0.006113886 0.011921350 0.011116052"
      ]
     },
     "metadata": {},
     "output_type": "display_data"
    },
    {
     "data": {
      "image/png": "[encoded data removed]",
      "text/plain": [
       "plot without title"
      ]
     },
     "metadata": {
      "image/png": {
       "height": 420,
       "width": 420
      }
     },
     "output_type": "display_data"
    }
   ],
   "source": [
    "importance <- xgb.importance(feature_names = colnames(train_xgb), model =model4)\n",
    "importance\n"
   ]
  },
  {
   "cell_type": "code",
   "execution_count": 94,
   "metadata": {},
   "outputs": [
    {
     "data": {
      "text/html": [
       "<strong>png:</strong> 2"
      ],
      "text/latex": [
       "\\textbf{png:} 2"
      ],
      "text/markdown": [
       "**png:** 2"
      ],
      "text/plain": [
       "png \n",
       "  2 "
      ]
     },
     "metadata": {},
     "output_type": "display_data"
    }
   ],
   "source": [
    "jpeg(file = \"fig2.png\")\n",
    "jpeg(width=1200,height=1200)\n",
    "xgb.plot.importance(importance_matrix = importance)\n",
    "dev.off();"
   ]
  },
  {
   "cell_type": "markdown",
   "metadata": {},
   "source": [
    "## Conclusion and effective prediction\n",
    "\n",
    "We remarked the best results using the Random Forest classifier, since it had the lowest OOB of the error rate after the CV. We could use all features that were selected in the first phase and eventually scored 0.78 accuracy. After that, we predicted the labels of the Pump It Up test set and uploaded it to the DrivenData portal."
   ]
  },
  {
   "cell_type": "code",
   "execution_count": 80,
   "metadata": {},
   "outputs": [
    {
     "ename": "ERROR",
     "evalue": "Error in predict.randomForest(model1, testing): New factor levels not present in the training data\n",
     "output_type": "error",
     "traceback": [
      "Error in predict.randomForest(model1, testing): New factor levels not present in the training data\nTraceback:\n",
      "1. predict(model1, testing)",
      "2. predict.randomForest(model1, testing)",
      "3. stop(\"New factor levels not present in the training data\")"
     ]
    }
   ],
   "source": [
    "\n",
    "# Make sure that some values won't be included in the prediction either. (see above)\n",
    "testing <- test[ , -which(names(test) %in% c(\"id\", \"scheme_management\", \"funder\", \"installer\", \"public_meeting\", \"permit\", \"management_group\", \"source_class\"))]\n",
    "\n",
    "#  Predict the labels using the RandomForest model (model1)\n",
    "prediction<- predict(model1, testing)\n",
    "\n",
    "\n",
    "# Create delivery csv format \n",
    "submission<-data.frame(test$id)\n",
    "names(submission)[1] <- \"id\"\n",
    "submission$status_group<- prediction\n",
    "write.csv(submission, file=\"pumps2.csv\", quote=FALSE, row.names=FALSE)"
   ]
  },
  {
   "cell_type": "code",
   "execution_count": null,
   "metadata": {},
   "outputs": [],
   "source": []
  }
 ],
 "metadata": {
  "kernelspec": {
   "display_name": "R",
   "language": "R",
   "name": "ir"
  },
  "language_info": {
   "codemirror_mode": "r",
   "file_extension": ".r",
   "mimetype": "text/x-r-source",
   "name": "R",
   "pygments_lexer": "r",
   "version": "3.6.1"
  }
 },
 "nbformat": 4,
 "nbformat_minor": 4
}
